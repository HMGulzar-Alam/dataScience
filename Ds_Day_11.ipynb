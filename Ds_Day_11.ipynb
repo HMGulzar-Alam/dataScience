{
 "cells": [
  {
   "cell_type": "code",
   "execution_count": 8,
   "metadata": {},
   "outputs": [],
   "source": [
    "# exception handling packages and modules \n",
    "\n",
    "# There are 2 stages where error happens in the program\n",
    "\n",
    "# During compilation -> syntax error\n",
    "# During execution -> Exception error\n",
    "\n"
   ]
  },
  {
   "cell_type": "code",
   "execution_count": 9,
   "metadata": {},
   "outputs": [],
   "source": [
    "# Syntax error\n",
    "# indent error \n"
   ]
  },
  {
   "cell_type": "code",
   "execution_count": 10,
   "metadata": {},
   "outputs": [
    {
     "ename": "IndexError",
     "evalue": "list index out of range",
     "output_type": "error",
     "traceback": [
      "\u001b[1;31m---------------------------------------------------------------------------\u001b[0m",
      "\u001b[1;31mIndexError\u001b[0m                                Traceback (most recent call last)",
      "\u001b[1;32mc:\\Users\\hafiz\\OneDrive\\Desktop\\DS\\Ds_Day_11.ipynb Cell 3\u001b[0m line \u001b[0;36m3\n\u001b[0;32m      <a href='vscode-notebook-cell:/c%3A/Users/hafiz/OneDrive/Desktop/DS/Ds_Day_11.ipynb#W2sZmlsZQ%3D%3D?line=0'>1</a>\u001b[0m \u001b[39m# index error \u001b[39;00m\n\u001b[0;32m      <a href='vscode-notebook-cell:/c%3A/Users/hafiz/OneDrive/Desktop/DS/Ds_Day_11.ipynb#W2sZmlsZQ%3D%3D?line=1'>2</a>\u001b[0m l \u001b[39m=\u001b[39m [\u001b[39m1\u001b[39m,\u001b[39m2\u001b[39m,\u001b[39m3\u001b[39m]\n\u001b[1;32m----> <a href='vscode-notebook-cell:/c%3A/Users/hafiz/OneDrive/Desktop/DS/Ds_Day_11.ipynb#W2sZmlsZQ%3D%3D?line=2'>3</a>\u001b[0m l[\u001b[39m100\u001b[39;49m]\n",
      "\u001b[1;31mIndexError\u001b[0m: list index out of range"
     ]
    }
   ],
   "source": [
    "# index error \n",
    "l = [1,2,3]\n",
    "l[100]"
   ]
  },
  {
   "cell_type": "code",
   "execution_count": null,
   "metadata": {},
   "outputs": [],
   "source": [
    "# module error \n",
    "# key error \n",
    "# value error -> type casting input\n",
    "# type error  -> operand error\n",
    "# Name error -> variable not found\n",
    "# attribute error \n"
   ]
  },
  {
   "cell_type": "code",
   "execution_count": null,
   "metadata": {},
   "outputs": [],
   "source": [
    "# Exceptions:\n",
    "# if things go wrong during the executed of the program. it generally happens when something is wrong in the program.\n",
    "\n",
    "# in python -> try, except, block "
   ]
  },
  {
   "cell_type": "code",
   "execution_count": null,
   "metadata": {},
   "outputs": [],
   "source": [
    "# lets create file \n",
    "with open('erro.txt', 'w') as f:\n",
    "    f.write('hello world')"
   ]
  },
  {
   "cell_type": "code",
   "execution_count": null,
   "metadata": {},
   "outputs": [
    {
     "name": "stdout",
     "output_type": "stream",
     "text": [
      "hello world\n"
     ]
    }
   ],
   "source": [
    "with open('erro.txt', 'r') as f:\n",
    "    print(f.read())"
   ]
  },
  {
   "cell_type": "code",
   "execution_count": null,
   "metadata": {},
   "outputs": [
    {
     "name": "stdout",
     "output_type": "stream",
     "text": [
      "file not found\n"
     ]
    }
   ],
   "source": [
    "# try and except demo \n",
    "try:\n",
    "    with open('error1.txt', 'r') as f:\n",
    "        print(f.read())\n",
    "except:\n",
    "    print('file not found')        "
   ]
  },
  {
   "cell_type": "code",
   "execution_count": null,
   "metadata": {},
   "outputs": [
    {
     "name": "stdout",
     "output_type": "stream",
     "text": [
      "hello world\n",
      "some issue found\n"
     ]
    }
   ],
   "source": [
    "# catching specific except \n",
    "try:\n",
    " with open('erro.txt', 'r') as f:\n",
    "    print(f.read())\n",
    "    print(m)\n",
    "\n",
    "except:\n",
    "    print('some issue found')    \n"
   ]
  },
  {
   "cell_type": "code",
   "execution_count": null,
   "metadata": {},
   "outputs": [
    {
     "name": "stdout",
     "output_type": "stream",
     "text": [
      "file not found\n"
     ]
    }
   ],
   "source": [
    "# catching specific except\n",
    "try:\n",
    "    with open('error.txt','r') as f:\n",
    "        f.read()  \n",
    "        print(m)\n",
    "except:\n",
    "    print('file not found')        "
   ]
  },
  {
   "cell_type": "code",
   "execution_count": null,
   "metadata": {},
   "outputs": [
    {
     "name": "stdout",
     "output_type": "stream",
     "text": [
      "hello world\n",
      "<built-in method with_traceback of NameError object at 0x000002A425EE25C0>\n"
     ]
    }
   ],
   "source": [
    "# catching specific except \n",
    "try:\n",
    "    with open('erro.txt','r') as f:\n",
    "        print(f.read())\n",
    "        print(m)\n",
    "except Exception as e:\n",
    "    print(e.with_traceback)        "
   ]
  },
  {
   "cell_type": "code",
   "execution_count": null,
   "metadata": {},
   "outputs": [
    {
     "name": "stdout",
     "output_type": "stream",
     "text": [
      "file not found\n"
     ]
    }
   ],
   "source": [
    "# catching specific except:\n",
    "try:\n",
    "    with open('erro1.txt', 'r') as f:\n",
    "        print(f.read())\n",
    "        print(m)\n",
    "        print(5/0)\n",
    "        L = [1,2,3]\n",
    "        L[100]\n",
    "except FileNotFoundError:\n",
    "    print('file not found')\n",
    "\n",
    "except ValueError:\n",
    "    print('name not available')  \n",
    "\n",
    "except NameError:\n",
    "    print(\"variable not define\")    \n",
    "\n",
    "except ZeroDivisionError:\n",
    "    print(\"Not divided by zero\")   \n",
    "\n",
    "except Exception as e:\n",
    "    print(e)       "
   ]
  },
  {
   "cell_type": "code",
   "execution_count": 13,
   "metadata": {},
   "outputs": [
    {
     "name": "stdout",
     "output_type": "stream",
     "text": [
      "file not found\n"
     ]
    }
   ],
   "source": [
    "# else \n",
    "try:\n",
    "    with open('erro1.txt','r') as f:\n",
    "        print(f.read())\n",
    "except NameError:\n",
    "    print('File nahai hai bhai')   \n",
    "except FileNotFoundError:\n",
    "    print('file not found')   \n",
    "else:\n",
    "    print('file read successfully')         "
   ]
  },
  {
   "cell_type": "code",
   "execution_count": 16,
   "metadata": {},
   "outputs": [
    {
     "name": "stdout",
     "output_type": "stream",
     "text": [
      "hello world\n",
      "file read successfully\n"
     ]
    },
    {
     "ename": "ValueError",
     "evalue": "I/O operation on closed file.",
     "output_type": "error",
     "traceback": [
      "\u001b[1;31m---------------------------------------------------------------------------\u001b[0m",
      "\u001b[1;31mValueError\u001b[0m                                Traceback (most recent call last)",
      "\u001b[1;32mc:\\Users\\hafiz\\OneDrive\\Desktop\\DS\\Ds_Day_11.ipynb Cell 14\u001b[0m line \u001b[0;36m1\n\u001b[0;32m      <a href='vscode-notebook-cell:/c%3A/Users/hafiz/OneDrive/Desktop/DS/Ds_Day_11.ipynb#X16sZmlsZQ%3D%3D?line=7'>8</a>\u001b[0m     \u001b[39mprint\u001b[39m(\u001b[39m'\u001b[39m\u001b[39mfile not found\u001b[39m\u001b[39m'\u001b[39m)   \n\u001b[0;32m     <a href='vscode-notebook-cell:/c%3A/Users/hafiz/OneDrive/Desktop/DS/Ds_Day_11.ipynb#X16sZmlsZQ%3D%3D?line=9'>10</a>\u001b[0m \u001b[39melse\u001b[39;00m:\n\u001b[1;32m---> <a href='vscode-notebook-cell:/c%3A/Users/hafiz/OneDrive/Desktop/DS/Ds_Day_11.ipynb#X16sZmlsZQ%3D%3D?line=10'>11</a>\u001b[0m     f\u001b[39m.\u001b[39;49mread()   \n\u001b[0;32m     <a href='vscode-notebook-cell:/c%3A/Users/hafiz/OneDrive/Desktop/DS/Ds_Day_11.ipynb#X16sZmlsZQ%3D%3D?line=11'>12</a>\u001b[0m \u001b[39mfinally\u001b[39;00m:\n\u001b[0;32m     <a href='vscode-notebook-cell:/c%3A/Users/hafiz/OneDrive/Desktop/DS/Ds_Day_11.ipynb#X16sZmlsZQ%3D%3D?line=12'>13</a>\u001b[0m     \u001b[39mprint\u001b[39m(\u001b[39m'\u001b[39m\u001b[39mfile read successfully\u001b[39m\u001b[39m'\u001b[39m)        \n",
      "\u001b[1;31mValueError\u001b[0m: I/O operation on closed file."
     ]
    }
   ],
   "source": [
    "# finally \n",
    "try:\n",
    "    \n",
    "    with open('erro.txt','r') as f:\n",
    "        \n",
    "        print(f.read())\n",
    "except FileNotFoundError:\n",
    "    print('file not found')   \n",
    "\n",
    "else:\n",
    "    f.read()   \n",
    "finally:\n",
    "    print('file read successfully')        "
   ]
  },
  {
   "cell_type": "code",
   "execution_count": null,
   "metadata": {},
   "outputs": [
    {
     "name": "stdout",
     "output_type": "stream",
     "text": [
      "amount can not be -ve\n"
     ]
    }
   ],
   "source": [
    "# python vs java \n",
    "# try vs try\n",
    "# except vs catch \n",
    "# raise vs through \n",
    "\n",
    "class Bank:\n",
    "    def __init__(self,balance):\n",
    "        self.balance = balance\n",
    "\n",
    "    def withdraw(self, Amount):\n",
    "        self.Amount = Amount  \n",
    "        if Amount < 0:\n",
    "            raise Exception ('amount can not be -ve')\n",
    "        elif self.balance < Amount:\n",
    "            raise Exception ('Amount not available')\n",
    "        self.balance = self.balance - Amount\n",
    "obj = Bank(1000)\n",
    "\n",
    "try:\n",
    "    obj.withdraw(-10)\n",
    "\n",
    "except Exception as e:\n",
    "    print(e)\n",
    "else:\n",
    "    print(obj.balance)    \n",
    "\n",
    "\n",
    "\n"
   ]
  },
  {
   "cell_type": "code",
   "execution_count": 8,
   "metadata": {},
   "outputs": [
    {
     "name": "stdout",
     "output_type": "stream",
     "text": [
      "9976\n"
     ]
    }
   ],
   "source": [
    "class MyException(Exception):\n",
    "    def __init__(self, message):\n",
    "        print(message)\n",
    "\n",
    "\n",
    "class Bank:\n",
    "    def __init__(self, balance):\n",
    "        self.balance = balance\n",
    "\n",
    "    def withdraw(self, amount):\n",
    "        self.balance = self.balance - amount\n",
    "\n",
    "        if amount < 0:\n",
    "            raise Exception('amount can not be -ve')\n",
    "\n",
    "        if self.balance < amount:\n",
    "            raise Exception ('balance not available')\n",
    "\n",
    "        self.balance = self.balance -  amount\n",
    "\n",
    "\n",
    "obj = Bank(10000)\n",
    "\n",
    "try:\n",
    "    obj.withdraw(12)\n",
    "except MyException as e:\n",
    "    print(e)\n",
    "\n",
    "else:\n",
    "    print(obj.balance)    \n",
    "\n"
   ]
  },
  {
   "cell_type": "code",
   "execution_count": 21,
   "metadata": {},
   "outputs": [
    {
     "name": "stdout",
     "output_type": "stream",
     "text": [
      "Welcome\n",
      "Gulzar\n"
     ]
    }
   ],
   "source": [
    "# creating customs exception \n",
    "# exception hierarchy in python \n",
    "\n",
    "# simple example \n",
    "\n",
    "class Google():\n",
    "    def __init__(self,name,email,password,device):\n",
    "        self.name = name\n",
    "        self.email = email\n",
    "        self.password = password\n",
    "        self.device = device\n",
    "\n",
    "\n",
    "    def login(self,email,password,device):\n",
    "        if device != self.device:\n",
    "            raise Exception(' device not found')\n",
    "        if email == self.email and password == self.password:\n",
    "            print('Welcome')\n",
    "        else:\n",
    "            print(\"login error\")    \n",
    "\n",
    "\n",
    "\n",
    "\n",
    "\n",
    "obj = Google('Gulzar', 'gulzi@123', '1234','android')\n",
    "# obj.name\n",
    "\n",
    "try:\n",
    "    obj.login('gulzi@123','1234','android')\n",
    "except Exception as e:\n",
    "    print(e)\n",
    "else:\n",
    "    print(obj.name)    \n",
    "    \n",
    "        \n",
    "\n",
    "\n",
    "\n",
    "\n"
   ]
  },
  {
   "cell_type": "code",
   "execution_count": null,
   "metadata": {},
   "outputs": [],
   "source": []
  },
  {
   "cell_type": "code",
   "execution_count": null,
   "metadata": {},
   "outputs": [],
   "source": []
  },
  {
   "cell_type": "code",
   "execution_count": null,
   "metadata": {},
   "outputs": [],
   "source": []
  }
 ],
 "metadata": {
  "kernelspec": {
   "display_name": "Python 3",
   "language": "python",
   "name": "python3"
  },
  "language_info": {
   "codemirror_mode": {
    "name": "ipython",
    "version": 3
   },
   "file_extension": ".py",
   "mimetype": "text/x-python",
   "name": "python",
   "nbconvert_exporter": "python",
   "pygments_lexer": "ipython3",
   "version": "3.11.2"
  }
 },
 "nbformat": 4,
 "nbformat_minor": 2
}
