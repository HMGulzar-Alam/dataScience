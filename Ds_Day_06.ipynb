{
 "cells": [
  {
   "cell_type": "code",
   "execution_count": 1,
   "id": "9309a995",
   "metadata": {},
   "outputs": [],
   "source": [
    "# Function \n",
    "# lets create function with docstring\n",
    "\n",
    "def is_even(num):\n",
    "    '''\n",
    "    this function is return if a given number is even or odd\n",
    "    input : Any valid integer\n",
    "    output : odd/even\n",
    "    created on 26 Aug\n",
    "    '''\n",
    "    \n",
    "    if type(num) == int:\n",
    "    \n",
    "        if num%2 == 0:\n",
    "            return \"even\"\n",
    "        else:\n",
    "            return \"odd\"\n",
    "    else:\n",
    "            return \"plz enter number\""
   ]
  },
  {
   "cell_type": "code",
   "execution_count": 2,
   "id": "854397bc",
   "metadata": {},
   "outputs": [
    {
     "data": {
      "text/plain": [
       "'plz enter number'"
      ]
     },
     "execution_count": 2,
     "metadata": {},
     "output_type": "execute_result"
    }
   ],
   "source": [
    "is_even(3)\n",
    "is_even('asd')\n"
   ]
  },
  {
   "cell_type": "code",
   "execution_count": 3,
   "id": "293963ec",
   "metadata": {},
   "outputs": [
    {
     "name": "stdout",
     "output_type": "stream",
     "text": [
      "odd\n",
      "even\n",
      "odd\n",
      "even\n",
      "odd\n",
      "even\n",
      "odd\n",
      "even\n",
      "odd\n",
      "even\n"
     ]
    }
   ],
   "source": [
    "for i in range(1,11):\n",
    "    x = is_even(i)\n",
    "    print(x)"
   ]
  },
  {
   "cell_type": "code",
   "execution_count": 4,
   "id": "e1327c8f",
   "metadata": {},
   "outputs": [],
   "source": [
    "# parameter vs arguments\n",
    "# creates the function (parameter) vs used the function arguments\n",
    "\n",
    "# types of arguments\n",
    "# 1. default\n",
    "# 2. keyword\n",
    "# 3. positional"
   ]
  },
  {
   "cell_type": "code",
   "execution_count": 5,
   "id": "e783ac74",
   "metadata": {},
   "outputs": [],
   "source": [
    "def power(a,b):\n",
    "    return a**b"
   ]
  },
  {
   "cell_type": "code",
   "execution_count": 6,
   "id": "a7c39852",
   "metadata": {},
   "outputs": [
    {
     "ename": "TypeError",
     "evalue": "power() missing 1 required positional argument: 'b'",
     "output_type": "error",
     "traceback": [
      "\u001b[1;31m---------------------------------------------------------------------------\u001b[0m",
      "\u001b[1;31mTypeError\u001b[0m                                 Traceback (most recent call last)",
      "Cell \u001b[1;32mIn[6], line 1\u001b[0m\n\u001b[1;32m----> 1\u001b[0m \u001b[43mpower\u001b[49m\u001b[43m(\u001b[49m\u001b[38;5;241;43m2\u001b[39;49m\u001b[43m)\u001b[49m\n",
      "\u001b[1;31mTypeError\u001b[0m: power() missing 1 required positional argument: 'b'"
     ]
    }
   ],
   "source": [
    "power(2)"
   ]
  },
  {
   "cell_type": "code",
   "execution_count": null,
   "id": "addbd435",
   "metadata": {},
   "outputs": [],
   "source": [
    "# default parameter\n",
    "def power(a=1,b=1):\n",
    "    return a**b \n",
    "\n",
    "power(2)\n",
    "    "
   ]
  },
  {
   "cell_type": "code",
   "execution_count": null,
   "id": "79edeb5b",
   "metadata": {},
   "outputs": [],
   "source": [
    "power()"
   ]
  },
  {
   "cell_type": "code",
   "execution_count": 7,
   "id": "8b5e7330",
   "metadata": {},
   "outputs": [
    {
     "data": {
      "text/plain": [
       "8"
      ]
     },
     "execution_count": 7,
     "metadata": {},
     "output_type": "execute_result"
    }
   ],
   "source": [
    "# positional aurguments\n",
    "power(2,3)"
   ]
  },
  {
   "cell_type": "code",
   "execution_count": 24,
   "id": "47ff967d",
   "metadata": {},
   "outputs": [
    {
     "data": {
      "text/plain": [
       "16"
      ]
     },
     "execution_count": 24,
     "metadata": {},
     "output_type": "execute_result"
    }
   ],
   "source": [
    "# keyword arguments\n",
    "power(b=4, a=2)"
   ]
  },
  {
   "cell_type": "code",
   "execution_count": 25,
   "id": "f08fc7b7",
   "metadata": {},
   "outputs": [],
   "source": [
    "# args nad kwargs"
   ]
  },
  {
   "cell_type": "code",
   "execution_count": 27,
   "id": "afd0ebf1",
   "metadata": {},
   "outputs": [],
   "source": [
    "# args : allow us to pass variable number of non keyword arguments to a function\n",
    "\n",
    "# def multi(*args):\n",
    "#     product = 1\n",
    "    \n",
    "#     for i in args:\n",
    "#         product = product * i\n",
    "        \n",
    "#     return product\n",
    "\n",
    "def multi(*args):\n",
    "    product = 1\n",
    "    \n",
    "    for i in args:\n",
    "        product = product*i\n",
    "        print(args)\n",
    "    return product    "
   ]
  },
  {
   "cell_type": "code",
   "execution_count": 28,
   "id": "23eef85f",
   "metadata": {},
   "outputs": [
    {
     "name": "stdout",
     "output_type": "stream",
     "text": [
      "(2, 3, 4, 5)\n",
      "(2, 3, 4, 5)\n",
      "(2, 3, 4, 5)\n",
      "(2, 3, 4, 5)\n"
     ]
    },
    {
     "data": {
      "text/plain": [
       "120"
      ]
     },
     "execution_count": 28,
     "metadata": {},
     "output_type": "execute_result"
    }
   ],
   "source": [
    "multi(2,3,4,5)"
   ]
  },
  {
   "cell_type": "code",
   "execution_count": 18,
   "id": "5d15737f",
   "metadata": {},
   "outputs": [
    {
     "name": "stdout",
     "output_type": "stream",
     "text": [
      "None\n",
      "\n",
      "    this function is return if a given number is even or odd\n",
      "    input : Any valid integer\n",
      "    output : odd/even\n",
      "    created on 26 Aug\n",
      "    \n"
     ]
    }
   ],
   "source": [
    "# check function details\n",
    "\n",
    "print(multi.__doc__)\n",
    "print(is_even.__doc__)"
   ]
  },
  {
   "cell_type": "code",
   "execution_count": 33,
   "id": "4b44a260",
   "metadata": {},
   "outputs": [
    {
     "name": "stdout",
     "output_type": "stream",
     "text": [
      "Pakistan -> Karachi\n",
      "India -> Dehli\n"
     ]
    },
    {
     "data": {
      "text/plain": [
       "{'Pakistan': 'Karachi', 'India': 'Dehli'}"
      ]
     },
     "execution_count": 33,
     "metadata": {},
     "output_type": "execute_result"
    }
   ],
   "source": [
    "# *kwargs\n",
    "# allow us to pass any number of keyword arguments\n",
    "# kwargs means dictionary like key-pair\n",
    "\n",
    "def display(**kwargs):\n",
    "    for (key,value) in kwargs.items():\n",
    "        print(key, '->', value)\n",
    "    return kwargs\n",
    "display(Pakistan = \"Karachi\", India=\"Dehli\")\n"
   ]
  },
  {
   "cell_type": "code",
   "execution_count": 35,
   "id": "e5e3bef5",
   "metadata": {},
   "outputs": [
    {
     "name": "stdout",
     "output_type": "stream",
     "text": [
      "None\n",
      "[1, 2, 3, 4]\n"
     ]
    }
   ],
   "source": [
    "L = [1,2,3]\n",
    "print(L.append(4)) #not return required print\n",
    "print(L)"
   ]
  },
  {
   "cell_type": "code",
   "execution_count": 36,
   "id": "8585c363",
   "metadata": {},
   "outputs": [
    {
     "name": "stdout",
     "output_type": "stream",
     "text": [
      "inside g\n",
      "inside f\n"
     ]
    }
   ],
   "source": [
    "# nested function\n",
    "\n",
    "def f():\n",
    "    def g():\n",
    "     print(\"inside g\")\n",
    "    g()\n",
    "    print(\"inside f\")\n",
    "\n",
    "f()    "
   ]
  },
  {
   "cell_type": "code",
   "execution_count": 13,
   "id": "d2c2d062",
   "metadata": {},
   "outputs": [],
   "source": [
    "# list, tuple also 1st class citizen\n",
    "\n",
    "# function is also a data type\n",
    "\n",
    "def square(num):\n",
    "    num**2\n",
    "    \n",
    "    return num\n",
    "    "
   ]
  },
  {
   "cell_type": "code",
   "execution_count": 14,
   "id": "0fa685ac",
   "metadata": {},
   "outputs": [
    {
     "name": "stdout",
     "output_type": "stream",
     "text": [
      "<class 'function'>\n",
      "2418937726432\n"
     ]
    }
   ],
   "source": [
    "# id & type\n",
    "square(4)\n",
    "print(type(square))\n",
    "print(id(square))"
   ]
  },
  {
   "cell_type": "code",
   "execution_count": 15,
   "id": "d0eed7a8",
   "metadata": {},
   "outputs": [
    {
     "data": {
      "text/plain": [
       "2418937726432"
      ]
     },
     "execution_count": 15,
     "metadata": {},
     "output_type": "execute_result"
    }
   ],
   "source": [
    "# reassign\n",
    "x = square\n",
    "id(x)"
   ]
  },
  {
   "cell_type": "code",
   "execution_count": 16,
   "id": "66fb6dd7",
   "metadata": {},
   "outputs": [
    {
     "data": {
      "text/plain": [
       "3"
      ]
     },
     "execution_count": 16,
     "metadata": {},
     "output_type": "execute_result"
    }
   ],
   "source": [
    "x(3)"
   ]
  },
  {
   "cell_type": "code",
   "execution_count": 11,
   "id": "3a98aaff",
   "metadata": {},
   "outputs": [],
   "source": [
    "del square"
   ]
  },
  {
   "cell_type": "code",
   "execution_count": 17,
   "id": "94bf1859",
   "metadata": {},
   "outputs": [
    {
     "name": "stdout",
     "output_type": "stream",
     "text": [
      "[1, 2, 3, 4, <function square at 0x0000023333EC85E0>]\n"
     ]
    }
   ],
   "source": [
    "# storing\n",
    "l = [1,2,3,4,square]\n",
    "print(l)"
   ]
  },
  {
   "cell_type": "code",
   "execution_count": 18,
   "id": "1775a75c",
   "metadata": {},
   "outputs": [
    {
     "data": {
      "text/plain": [
       "3"
      ]
     },
     "execution_count": 18,
     "metadata": {},
     "output_type": "execute_result"
    }
   ],
   "source": [
    "l[-1](3)"
   ]
  },
  {
   "cell_type": "code",
   "execution_count": 22,
   "id": "9587e55f",
   "metadata": {},
   "outputs": [
    {
     "name": "stdout",
     "output_type": "stream",
     "text": [
      "<function <lambda> at 0x0000023333EC8160>\n"
     ]
    },
    {
     "data": {
      "text/plain": [
       "4"
      ]
     },
     "execution_count": 22,
     "metadata": {},
     "output_type": "execute_result"
    }
   ],
   "source": [
    "# lambda function\n",
    "\n",
    "a = lambda x:x**2\n",
    "print(a)\n",
    "a(2)"
   ]
  },
  {
   "cell_type": "code",
   "execution_count": 26,
   "id": "70d54c95",
   "metadata": {},
   "outputs": [
    {
     "data": {
      "text/plain": [
       "8"
      ]
     },
     "execution_count": 26,
     "metadata": {},
     "output_type": "execute_result"
    }
   ],
   "source": [
    "b = lambda x,y:x+y\n",
    "b(5,3)"
   ]
  },
  {
   "cell_type": "code",
   "execution_count": null,
   "id": "656db381",
   "metadata": {},
   "outputs": [],
   "source": [
    "# difference b/w lambda and normal function\n",
    "# no name\n",
    "# n0 return\n",
    "# 1 line code\n",
    "# not reusable\n",
    "\n",
    "# only used in HOF"
   ]
  },
  {
   "cell_type": "code",
   "execution_count": 62,
   "id": "d50ad8a1",
   "metadata": {},
   "outputs": [
    {
     "data": {
      "text/plain": [
       "True"
      ]
     },
     "execution_count": 62,
     "metadata": {},
     "output_type": "execute_result"
    }
   ],
   "source": [
    "# check string\n",
    "\n",
    "a = lambda s: 'a' in s\n",
    "a(\"khan\")\n",
    "# print(list(a))\n",
    "# list(a)"
   ]
  },
  {
   "cell_type": "code",
   "execution_count": 30,
   "id": "b209a41c",
   "metadata": {},
   "outputs": [
    {
     "data": {
      "text/plain": [
       "'odd'"
      ]
     },
     "execution_count": 30,
     "metadata": {},
     "output_type": "execute_result"
    }
   ],
   "source": [
    "# even/odd\n",
    "c = lambda x: \"even\" if x%2==0 else \"odd\"\n",
    "c(5)"
   ]
  },
  {
   "cell_type": "code",
   "execution_count": 36,
   "id": "e62454e1",
   "metadata": {},
   "outputs": [
    {
     "name": "stdout",
     "output_type": "stream",
     "text": [
      "[1]\n",
      "[1, 4]\n",
      "[1, 4, 9]\n"
     ]
    }
   ],
   "source": [
    "# Higher order function\n",
    "# recieved another function\n",
    "# def square(num):\n",
    "#     return num**2\n",
    "    \n",
    "# def transform(f,L):\n",
    "#     output = []\n",
    "#     for i in L:\n",
    "#         output.append(f(i))\n",
    "#         print(output)\n",
    "        \n",
    "# L = [1,2,3,4,5]\n",
    "# transform(square,L)\n",
    "      \n",
    "def square(num):\n",
    "    return num**2\n",
    "\n",
    "def transform(f,l):\n",
    "    output = []\n",
    "    for i in l:\n",
    "        output.append(f(i))\n",
    "        print(output)\n",
    "l = [1,2,3]\n",
    "transform(square,l)"
   ]
  },
  {
   "cell_type": "code",
   "execution_count": 34,
   "id": "2b4842e4",
   "metadata": {},
   "outputs": [
    {
     "name": "stdout",
     "output_type": "stream",
     "text": [
      "[5, 6, 6]\n"
     ]
    }
   ],
   "source": [
    "# Map\n",
    "def myfunc(n):\n",
    "    return len(n)\n",
    "\n",
    "x = map(myfunc, ('apple', 'banana', 'cherry'))\n",
    "print(list(x))"
   ]
  },
  {
   "cell_type": "code",
   "execution_count": 38,
   "id": "4da13a7b",
   "metadata": {},
   "outputs": [
    {
     "data": {
      "text/plain": [
       "[1, 4, 9, 16, 25]"
      ]
     },
     "execution_count": 38,
     "metadata": {},
     "output_type": "execute_result"
    }
   ],
   "source": [
    "# square example\n",
    "list(map(lambda x: x**2,[1,2,3,4,5]))"
   ]
  },
  {
   "cell_type": "code",
   "execution_count": 40,
   "id": "27d22fc7",
   "metadata": {},
   "outputs": [
    {
     "data": {
      "text/plain": [
       "['odd', 'even', 'odd', 'even', 'odd']"
      ]
     },
     "execution_count": 40,
     "metadata": {},
     "output_type": "execute_result"
    }
   ],
   "source": [
    "# even/odd\n",
    "l = [1,2,3,4,5]\n",
    "list(map(lambda x : 'even' if x%2==0 else 'odd',l))"
   ]
  },
  {
   "cell_type": "code",
   "execution_count": 56,
   "id": "91528446",
   "metadata": {},
   "outputs": [
    {
     "data": {
      "text/plain": [
       "[25]"
      ]
     },
     "execution_count": 56,
     "metadata": {},
     "output_type": "execute_result"
    }
   ],
   "source": [
    "# map in dic (each)\n",
    "\n",
    "dic = {\n",
    "    'name' : 'Gulzar',\n",
    "    'age' : 25\n",
    "},\n",
    "{\n",
    "    'name' : 'kashan',\n",
    "    'age' : 26\n",
    "}\n",
    "\n",
    "list(map(lambda dic:dic['age'],dic))"
   ]
  },
  {
   "cell_type": "code",
   "execution_count": 68,
   "id": "cd468757",
   "metadata": {},
   "outputs": [
    {
     "data": {
      "text/plain": [
       "[1, 2, 3, 4]"
      ]
     },
     "execution_count": 68,
     "metadata": {},
     "output_type": "execute_result"
    }
   ],
   "source": [
    "# filter (selected)\n",
    "# find number grater than 5\n",
    "L = [1,2,3,4,5,6,7,8]\n",
    "list(filter(lambda x:x>5,L))\n",
    "list(filter(lambda y:y<5,L))"
   ]
  },
  {
   "cell_type": "code",
   "execution_count": 71,
   "id": "2064a228",
   "metadata": {},
   "outputs": [
    {
     "data": {
      "text/plain": [
       "['apple']"
      ]
     },
     "execution_count": 71,
     "metadata": {},
     "output_type": "execute_result"
    }
   ],
   "source": [
    "# find fruits with starting name a\n",
    "fruits = [\"apple\", \"mango\", 'cherry']\n",
    "list(filter(lambda x:x.startswith('a'),fruits))"
   ]
  },
  {
   "cell_type": "code",
   "execution_count": 73,
   "id": "3f567f67",
   "metadata": {},
   "outputs": [
    {
     "data": {
      "text/plain": [
       "15"
      ]
     },
     "execution_count": 73,
     "metadata": {},
     "output_type": "execute_result"
    }
   ],
   "source": [
    "# sum of all numbers\n",
    "import functools\n",
    "functools.reduce(lambda x,y: x+y,[1,2,3,4,5])"
   ]
  },
  {
   "cell_type": "code",
   "execution_count": 74,
   "id": "81f00180",
   "metadata": {},
   "outputs": [
    {
     "data": {
      "text/plain": [
       "1"
      ]
     },
     "execution_count": 74,
     "metadata": {},
     "output_type": "execute_result"
    }
   ],
   "source": [
    "# find min\n",
    "functools.reduce(lambda x,y:x if x<y else y, [3,4,6,7,1])"
   ]
  },
  {
   "cell_type": "code",
   "execution_count": null,
   "id": "56afc3b9",
   "metadata": {},
   "outputs": [],
   "source": []
  }
 ],
 "metadata": {
  "kernelspec": {
   "display_name": "Python 3 (ipykernel)",
   "language": "python",
   "name": "python3"
  },
  "language_info": {
   "codemirror_mode": {
    "name": "ipython",
    "version": 3
   },
   "file_extension": ".py",
   "mimetype": "text/x-python",
   "name": "python",
   "nbconvert_exporter": "python",
   "pygments_lexer": "ipython3",
   "version": "3.10.9"
  }
 },
 "nbformat": 4,
 "nbformat_minor": 5
}
