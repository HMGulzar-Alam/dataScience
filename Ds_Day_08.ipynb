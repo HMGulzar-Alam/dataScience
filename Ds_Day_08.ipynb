{
 "cells": [
  {
   "cell_type": "code",
   "execution_count": 1,
   "id": "b7030795",
   "metadata": {},
   "outputs": [],
   "source": [
    "# write oop classes to hndle the following scenarios\n",
    "# 1.A user can creates 2D coordinate\n",
    "# 2.find distance between 2D coordinates\n",
    "# 3.find the distance from origin\n",
    "# 4. check point lies on a given line\n",
    "# 5. distance between 2D point and given line\n"
   ]
  },
  {
   "cell_type": "code",
   "execution_count": 2,
   "id": "cfcddc93",
   "metadata": {},
   "outputs": [],
   "source": [
    "class point:\n",
    "    def __init__(self,x,y):\n",
    "        self.x_cod = x\n",
    "        self.y_cod = y\n",
    "        \n",
    "    def __str__(self):\n",
    "        return '<{},{}>'.format(self.x_cod,self.y_cod)\n",
    "    \n",
    "    def euclidean_distance(self,other):\n",
    "        return ((self.x_cod - other.x_cod)**2 + (self.y_cod - other.y_cod)**2)*0.5\n",
    "    \n",
    "    def distance_from_origin(self):\n",
    "        return self.euclidean_distance(point(0,0))"
   ]
  },
  {
   "cell_type": "code",
   "execution_count": 3,
   "id": "7afebe0e",
   "metadata": {},
   "outputs": [],
   "source": [
    "p1 = point(2,3)\n",
    "p2 = point(4,5)\n",
    "\n",
    "# p1.euclidean_distance(p2)"
   ]
  },
  {
   "cell_type": "code",
   "execution_count": 4,
   "id": "19f659fd",
   "metadata": {},
   "outputs": [],
   "source": [
    "# p1.distance_from_origin()"
   ]
  },
  {
   "cell_type": "code",
   "execution_count": 5,
   "id": "5dfef82e",
   "metadata": {},
   "outputs": [],
   "source": [
    "# How objects access attributes\n",
    "\n",
    "class person:\n",
    "    \n",
    "    def __init__(self, name, country):\n",
    "        self.name = name\n",
    "        self.country = country\n",
    "        \n",
    "    def greet(self):    \n",
    "        if self.country == \"Pakistan\" :\n",
    "            print(\"Assalam O Alaikum\", self.name)\n",
    "        else:        \n",
    "            print(\"Hello\", self.name)"
   ]
  },
  {
   "cell_type": "code",
   "execution_count": 6,
   "id": "3649f3e4",
   "metadata": {},
   "outputs": [],
   "source": [
    "p = person(\"gulzar\", \"Pakistan\")"
   ]
  },
  {
   "cell_type": "code",
   "execution_count": 7,
   "id": "d7671d4d",
   "metadata": {},
   "outputs": [
    {
     "name": "stdout",
     "output_type": "stream",
     "text": [
      "<__main__.person object at 0x000001E523819DB0>\n"
     ]
    }
   ],
   "source": [
    "print(p)"
   ]
  },
  {
   "cell_type": "code",
   "execution_count": 8,
   "id": "f6784ec8",
   "metadata": {},
   "outputs": [
    {
     "data": {
      "text/plain": [
       "'Pakistan'"
      ]
     },
     "execution_count": 8,
     "metadata": {},
     "output_type": "execute_result"
    }
   ],
   "source": [
    "p.country"
   ]
  },
  {
   "cell_type": "code",
   "execution_count": 9,
   "id": "8fdbe263",
   "metadata": {},
   "outputs": [
    {
     "name": "stdout",
     "output_type": "stream",
     "text": [
      "Assalam O Alaikum gulzar\n"
     ]
    }
   ],
   "source": [
    "p.greet()"
   ]
  },
  {
   "cell_type": "code",
   "execution_count": 10,
   "id": "fd8a6c7e",
   "metadata": {},
   "outputs": [],
   "source": [
    "# outside the class attributes create\n",
    "p.gender = \"male\""
   ]
  },
  {
   "cell_type": "code",
   "execution_count": 11,
   "id": "31358b8f",
   "metadata": {},
   "outputs": [
    {
     "data": {
      "text/plain": [
       "'male'"
      ]
     },
     "execution_count": 11,
     "metadata": {},
     "output_type": "execute_result"
    }
   ],
   "source": [
    "p.gender"
   ]
  },
  {
   "cell_type": "code",
   "execution_count": 12,
   "id": "f37a80a4",
   "metadata": {},
   "outputs": [
    {
     "data": {
      "text/plain": [
       "<__main__.Person at 0x1e523776c50>"
      ]
     },
     "execution_count": 12,
     "metadata": {},
     "output_type": "execute_result"
    }
   ],
   "source": [
    "# Refrence variable\n",
    "# 1.hold the object\n",
    "# 2.creates object without refrence variable\n",
    "# 3. object can have multiple variables\n",
    "\n",
    "class Person:\n",
    "    def __init__(self):\n",
    "        self.name = \"Gulzar\"\n",
    "        self.country = \"Pakistan\"\n",
    "        \n",
    "# 2.creates object without refrence variable        \n",
    "Person()        "
   ]
  },
  {
   "cell_type": "code",
   "execution_count": 13,
   "id": "ddf9c849",
   "metadata": {},
   "outputs": [
    {
     "data": {
      "text/plain": [
       "<__main__.Person at 0x1e5237771f0>"
      ]
     },
     "execution_count": 13,
     "metadata": {},
     "output_type": "execute_result"
    }
   ],
   "source": [
    "p1 = Person()\n",
    "p1"
   ]
  },
  {
   "cell_type": "code",
   "execution_count": 14,
   "id": "5c008e57",
   "metadata": {},
   "outputs": [],
   "source": [
    "# outside the class\n",
    "\n",
    "# class person:\n",
    "#     def __init__(self,name,gender):\n",
    "#         self.name = name\n",
    "#         self.gender = gender\n",
    "# def greet(person):\n",
    "#     print(\"My name is\",person.name,\"and my gender is\",person.gender)\n",
    "\n",
    "class cricket:\n",
    "    def __init__(self,name,team):\n",
    "        self.name = name\n",
    "        self.team = team\n",
    "        \n",
    "def status(cricket):\n",
    "    print(\"My name is\",cricket.name,\"and my team is\",cricket.team)"
   ]
  },
  {
   "cell_type": "code",
   "execution_count": 15,
   "id": "b1201157",
   "metadata": {},
   "outputs": [
    {
     "name": "stdout",
     "output_type": "stream",
     "text": [
      "My name is Adil and my team is Pakistan\n"
     ]
    }
   ],
   "source": [
    "c = cricket(\"Adil\", \"Pakistan\")\n",
    "status(c)"
   ]
  },
  {
   "cell_type": "code",
   "execution_count": 16,
   "id": "163ece57",
   "metadata": {},
   "outputs": [
    {
     "data": {
      "text/plain": [
       "<__main__.person at 0x1e523725ff0>"
      ]
     },
     "execution_count": 16,
     "metadata": {},
     "output_type": "execute_result"
    }
   ],
   "source": [
    "# object ki mutability\n",
    "class person:\n",
    "    def __init__(self,name,gender):\n",
    "        self.name = name\n",
    "        self.gender = gender\n",
    "#  outside the class\n",
    "def greet(person):\n",
    "    person.name = \"Gulzar\"\n",
    "    person.gender = \"male\"\n",
    "    \n",
    "    return person\n",
    "\n",
    "p = person(\"Aleena\",\"female\" )\n",
    "p"
   ]
  },
  {
   "cell_type": "code",
   "execution_count": 17,
   "id": "eb70830b",
   "metadata": {},
   "outputs": [
    {
     "name": "stdout",
     "output_type": "stream",
     "text": [
      "2083653836784\n",
      "Aleena\n",
      "female\n"
     ]
    }
   ],
   "source": [
    "print(id(p))\n",
    "print(p.name)\n",
    "print(p.gender)"
   ]
  },
  {
   "cell_type": "code",
   "execution_count": 18,
   "id": "f26e9e3d",
   "metadata": {},
   "outputs": [
    {
     "data": {
      "text/plain": [
       "'pakistan'"
      ]
     },
     "execution_count": 18,
     "metadata": {},
     "output_type": "execute_result"
    }
   ],
   "source": [
    "class person:\n",
    "    def __init__(self,name_input,country_input):\n",
    "        self.name = name_input\n",
    "        self.country = country_input\n",
    "        \n",
    "p = person(\"gulzar\", \"pakistan\")    \n",
    "p.country"
   ]
  },
  {
   "cell_type": "code",
   "execution_count": 19,
   "id": "0a5b69ed",
   "metadata": {
    "scrolled": true
   },
   "outputs": [
    {
     "ename": "IndentationError",
     "evalue": "expected an indented block after 'if' statement on line 18 (2514372224.py, line 20)",
     "output_type": "error",
     "traceback": [
      "\u001b[1;36m  Cell \u001b[1;32mIn[19], line 20\u001b[1;36m\u001b[0m\n\u001b[1;33m    elif user_input == '2':\u001b[0m\n\u001b[1;37m    ^\u001b[0m\n\u001b[1;31mIndentationError\u001b[0m\u001b[1;31m:\u001b[0m expected an indented block after 'if' statement on line 18\n"
     ]
    }
   ],
   "source": [
    "# encapsulation\n",
    "\n",
    "class Atm:\n",
    "    def __init__(self):\n",
    "        self.pin = ''\n",
    "        self.balance = 0\n",
    "        \n",
    "    def menu(self):\n",
    "        user_input = input('''\n",
    "        1.create pin\n",
    "        2.change pin\n",
    "        3.check balance\n",
    "        4.withdraw\n",
    "        5.anything else to exit\n",
    "        ''')\n",
    "        \n",
    "      \n",
    "        if user_input == '1':\n",
    "#             create pin\n",
    "        elif user_input == '2':\n",
    "#         change pin\n",
    "        elif user_input == '3':\n",
    "#         cash chk balance\n",
    "        elif user_input == '4':\n",
    "#         withraw\n",
    "        else:\n",
    "            exit()\n",
    "            \n",
    "    def create_pin(self):\n",
    "        user_pin = input(\"plz enter pin\")\n",
    "        self.pin = user_pin\n",
    "        print(\"pin create successfully\")\n",
    "        \n",
    "        "
   ]
  },
  {
   "cell_type": "code",
   "execution_count": 20,
   "id": "7bb38848",
   "metadata": {},
   "outputs": [],
   "source": [
    "class Atm:\n",
    "\n",
    "  # constructor(special function)->superpower -> \n",
    "  def __init__(self):\n",
    "    print(id(self))\n",
    "    self.pin = ''\n",
    "    self.__balance = 0\n",
    "    #self.menu()\n",
    "\n",
    "#   def get_balance(self):\n",
    "#     return self.__balance\n",
    "  def get_balance(self):\n",
    "        return self.__balance\n",
    "\n",
    "  def set_balance(self,new_value):\n",
    "    if type(new_value) == int:\n",
    "      self.__balance = new_value\n",
    "    else:\n",
    "      print('beta bahot maarenge')\n",
    "\n",
    "  def __menu(self):\n",
    "    user_input = input(\"\"\"\n",
    "    Hi how can I help you?\n",
    "    1. Press 1 to create pin\n",
    "    2. Press 2 to change pin\n",
    "    3. Press 3 to check balance\n",
    "    4. Press 4 to withdraw\n",
    "    5. Anything else to exit\n",
    "    \"\"\")\n",
    "\n",
    "    if user_input == '1':\n",
    "      self.create_pin()\n",
    "    elif user_input == '2':\n",
    "      self.change_pin()\n",
    "    elif user_input == '3':\n",
    "      self.check_balance()\n",
    "    elif user_input == '4':\n",
    "      self.withdraw()\n",
    "    else:\n",
    "      exit()\n",
    "\n",
    "  def create_pin(self):\n",
    "    user_pin = input('enter your pin')\n",
    "    self.pin = user_pin\n",
    "\n",
    "    user_balance = int(input('enter balance'))\n",
    "    self.__balance = user_balance\n",
    "\n",
    "    print('pin created successfully')\n",
    "\n",
    "  def change_pin(self):\n",
    "    old_pin = input('enter old pin')\n",
    "\n",
    "    if old_pin == self.pin:\n",
    "      # let him change the pin\n",
    "      new_pin = input('enter new pin')\n",
    "      self.pin = new_pin\n",
    "      print('pin change successful')\n",
    "    else:\n",
    "      print('nai karne de sakta re baba')\n",
    "\n",
    "  def check_balance(self):\n",
    "    user_pin = input('enter your pin')\n",
    "    if user_pin == self.pin:\n",
    "      print('your balance is ',self.__balance)\n",
    "    else:\n",
    "      print('chal nikal yahan se')\n",
    "\n",
    "  def withdraw(self):\n",
    "    user_pin = input('enter the pin')\n",
    "    if user_pin == self.pin:\n",
    "      # allow to withdraw\n",
    "      amount = int(input('enter the amount'))\n",
    "      if amount <= self.__balance:\n",
    "        self.__balance = self.__balance - amount\n",
    "        print('withdrawl successful.balance is',self.__balance)\n",
    "      else:\n",
    "        print('abe garib')\n",
    "    else:\n",
    "      print('sale chor')"
   ]
  },
  {
   "cell_type": "code",
   "execution_count": 27,
   "id": "0e6e7c8e",
   "metadata": {},
   "outputs": [
    {
     "name": "stdout",
     "output_type": "stream",
     "text": [
      "2083654925424\n"
     ]
    }
   ],
   "source": [
    "obj = Atm()"
   ]
  },
  {
   "cell_type": "code",
   "execution_count": 28,
   "id": "4f443903",
   "metadata": {},
   "outputs": [
    {
     "name": "stdout",
     "output_type": "stream",
     "text": [
      "enter your pin123\n",
      "enter balance5000\n",
      "pin created successfully\n"
     ]
    }
   ],
   "source": [
    "obj.create_pin()\n",
    "obj.__balance = \"heheh\""
   ]
  },
  {
   "cell_type": "code",
   "execution_count": 29,
   "id": "bfdec6c3",
   "metadata": {},
   "outputs": [
    {
     "name": "stdout",
     "output_type": "stream",
     "text": [
      "enter your pin123\n",
      "enter balance4000\n",
      "pin created successfully\n"
     ]
    }
   ],
   "source": [
    "obj.create_pin()\n",
    "obj._Atm__balance = \"heheh\""
   ]
  },
  {
   "cell_type": "code",
   "execution_count": 30,
   "id": "35259a14",
   "metadata": {},
   "outputs": [
    {
     "name": "stdout",
     "output_type": "stream",
     "text": [
      "enter the pin123\n",
      "enter the amount433\n"
     ]
    },
    {
     "ename": "TypeError",
     "evalue": "'<=' not supported between instances of 'int' and 'str'",
     "output_type": "error",
     "traceback": [
      "\u001b[1;31m---------------------------------------------------------------------------\u001b[0m",
      "\u001b[1;31mTypeError\u001b[0m                                 Traceback (most recent call last)",
      "Cell \u001b[1;32mIn[30], line 1\u001b[0m\n\u001b[1;32m----> 1\u001b[0m \u001b[43mobj\u001b[49m\u001b[38;5;241;43m.\u001b[39;49m\u001b[43mwithdraw\u001b[49m\u001b[43m(\u001b[49m\u001b[43m)\u001b[49m\n",
      "Cell \u001b[1;32mIn[20], line 74\u001b[0m, in \u001b[0;36mAtm.withdraw\u001b[1;34m(self)\u001b[0m\n\u001b[0;32m     71\u001b[0m \u001b[38;5;28;01mif\u001b[39;00m user_pin \u001b[38;5;241m==\u001b[39m \u001b[38;5;28mself\u001b[39m\u001b[38;5;241m.\u001b[39mpin:\n\u001b[0;32m     72\u001b[0m   \u001b[38;5;66;03m# allow to withdraw\u001b[39;00m\n\u001b[0;32m     73\u001b[0m   amount \u001b[38;5;241m=\u001b[39m \u001b[38;5;28mint\u001b[39m(\u001b[38;5;28minput\u001b[39m(\u001b[38;5;124m'\u001b[39m\u001b[38;5;124menter the amount\u001b[39m\u001b[38;5;124m'\u001b[39m))\n\u001b[1;32m---> 74\u001b[0m   \u001b[38;5;28;01mif\u001b[39;00m \u001b[43mamount\u001b[49m\u001b[43m \u001b[49m\u001b[38;5;241;43m<\u001b[39;49m\u001b[38;5;241;43m=\u001b[39;49m\u001b[43m \u001b[49m\u001b[38;5;28;43mself\u001b[39;49m\u001b[38;5;241;43m.\u001b[39;49m\u001b[43m__balance\u001b[49m:\n\u001b[0;32m     75\u001b[0m     \u001b[38;5;28mself\u001b[39m\u001b[38;5;241m.\u001b[39m__balance \u001b[38;5;241m=\u001b[39m \u001b[38;5;28mself\u001b[39m\u001b[38;5;241m.\u001b[39m__balance \u001b[38;5;241m-\u001b[39m amount\n\u001b[0;32m     76\u001b[0m     \u001b[38;5;28mprint\u001b[39m(\u001b[38;5;124m'\u001b[39m\u001b[38;5;124mwithdrawl successful.balance is\u001b[39m\u001b[38;5;124m'\u001b[39m,\u001b[38;5;28mself\u001b[39m\u001b[38;5;241m.\u001b[39m__balance)\n",
      "\u001b[1;31mTypeError\u001b[0m: '<=' not supported between instances of 'int' and 'str'"
     ]
    }
   ],
   "source": [
    "obj.withdraw()"
   ]
  },
  {
   "cell_type": "code",
   "execution_count": 31,
   "id": "29781deb",
   "metadata": {},
   "outputs": [
    {
     "data": {
      "text/plain": [
       "'heheh'"
      ]
     },
     "execution_count": 31,
     "metadata": {},
     "output_type": "execute_result"
    }
   ],
   "source": [
    "obj.get_balance()"
   ]
  },
  {
   "cell_type": "code",
   "execution_count": 32,
   "id": "47e6a35d",
   "metadata": {},
   "outputs": [],
   "source": [
    "obj.set_balance(2000) #setter"
   ]
  },
  {
   "cell_type": "code",
   "execution_count": 33,
   "id": "fefd92c1",
   "metadata": {},
   "outputs": [
    {
     "data": {
      "text/plain": [
       "2000"
      ]
     },
     "execution_count": 33,
     "metadata": {},
     "output_type": "execute_result"
    }
   ],
   "source": [
    "obj.get_balance() #getter"
   ]
  },
  {
   "cell_type": "code",
   "execution_count": 43,
   "id": "fbe458d5",
   "metadata": {},
   "outputs": [
    {
     "name": "stdout",
     "output_type": "stream",
     "text": [
      "[<__main__.person object at 0x000001E524E91630>, <__main__.person object at 0x000001E524E90070>]\n"
     ]
    }
   ],
   "source": [
    "# list of objects\n",
    "\n",
    "class person:\n",
    "    def __init__(self,name,gender):\n",
    "        self.name = name\n",
    "        self.gender = gender\n",
    "p1 = person(\"adil\", \"male\")\n",
    "p2 = person(\"kashifa\",\"female\")\n",
    "\n",
    "l = [p1,p2]\n",
    "print(l) #show address not data due to not str function used"
   ]
  },
  {
   "cell_type": "code",
   "execution_count": 44,
   "id": "1ddb382e",
   "metadata": {},
   "outputs": [
    {
     "name": "stdout",
     "output_type": "stream",
     "text": [
      "adil male\n",
      "kashifa female\n"
     ]
    }
   ],
   "source": [
    "for i in l:\n",
    "    print(i.name,i.gender)"
   ]
  },
  {
   "cell_type": "code",
   "execution_count": 48,
   "id": "72e5cf9c",
   "metadata": {},
   "outputs": [],
   "source": [
    "# list of dictionary\n",
    "\n",
    "class person:\n",
    "    def __init__(self,name,gender):\n",
    "        self.name = name\n",
    "        self.gender = gender\n",
    "p1 = person(\"adil\", \"male\")\n",
    "p2 = person(\"kashifa\",\"female\")\n",
    "\n",
    "d = {\"p1\":p1, \"p2\":p2}"
   ]
  },
  {
   "cell_type": "code",
   "execution_count": 64,
   "id": "cd20b8c8",
   "metadata": {},
   "outputs": [
    {
     "name": "stdout",
     "output_type": "stream",
     "text": [
      "adil\n",
      "male\n",
      "kashifa\n",
      "female\n"
     ]
    }
   ],
   "source": [
    "for i in d:\n",
    "    print(d[i].name)\n",
    "    print(d[i].gender)"
   ]
  },
  {
   "cell_type": "code",
   "execution_count": 206,
   "id": "3568bdd4",
   "metadata": {},
   "outputs": [],
   "source": [
    "# static (class variable)\n",
    "# vs \n",
    "# instance variables (object variable)\n",
    "\n",
    "class Atm:\n",
    "   \n",
    "  __counter = 1\n",
    "\n",
    "  # constructor(special function)->superpower -> \n",
    "  def __init__(self):\n",
    "    print(id(self))\n",
    "    self.pin = ''\n",
    "    self.__balance = 0\n",
    "    self.cid = Atm.__counter\n",
    "    Atm.__counter = Atm.__counter + 1\n",
    "    #self.menu()\n",
    "    \n",
    "#   utility function  \n",
    "  @staticmethod    \n",
    "  def get_counter():\n",
    "    return Atm.__counter\n",
    "        \n",
    "\n",
    "#   def get_balance(self):\n",
    "#     return self.__balance\n",
    "  def get_balance(self):\n",
    "        return self.__balance\n",
    "\n",
    "  def set_balance(self,new_value):\n",
    "    if type(new_value) == int:\n",
    "      self.__balance = new_value\n",
    "    else:\n",
    "      print('beta bahot maarenge')\n",
    "\n",
    "  def __menu(self):\n",
    "    user_input = input(\"\"\"\n",
    "    Hi how can I help you?\n",
    "    1. Press 1 to create pin\n",
    "    2. Press 2 to change pin\n",
    "    3. Press 3 to check balance\n",
    "    4. Press 4 to withdraw\n",
    "    5. Anything else to exit\n",
    "    \"\"\")\n",
    "\n",
    "    if user_input == '1':\n",
    "      self.create_pin()\n",
    "    elif user_input == '2':\n",
    "      self.change_pin()\n",
    "    elif user_input == '3':\n",
    "      self.check_balance()\n",
    "    elif user_input == '4':\n",
    "      self.withdraw()\n",
    "    else:\n",
    "      exit()\n",
    "\n",
    "  def create_pin(self):\n",
    "    user_pin = input('enter your pin')\n",
    "    self.pin = user_pin\n",
    "\n",
    "    user_balance = int(input('enter balance'))\n",
    "    self.__balance = user_balance\n",
    "\n",
    "    print('pin created successfully')\n",
    "\n",
    "  def change_pin(self):\n",
    "    old_pin = input('enter old pin')\n",
    "\n",
    "    if old_pin == self.pin:\n",
    "      # let him change the pin\n",
    "      new_pin = input('enter new pin')\n",
    "      self.pin = new_pin\n",
    "      print('pin change successful')\n",
    "    else:\n",
    "      print('nai karne de sakta re baba')\n",
    "\n",
    "  def check_balance(self):\n",
    "    user_pin = input('enter your pin')\n",
    "    if user_pin == self.pin:\n",
    "      print('your balance is ',self.__balance)\n",
    "    else:\n",
    "      print('chal nikal yahan se')\n",
    "\n",
    "  def withdraw(self):\n",
    "    user_pin = input('enter the pin')\n",
    "    if user_pin == self.pin:\n",
    "      # allow to withdraw\n",
    "      amount = int(input('enter the amount'))\n",
    "      if amount <= self.__balance:\n",
    "        self.__balance = self.__balance - amount\n",
    "        print('withdrawl successful.balance is',self.__balance)\n",
    "      else:\n",
    "        print('abe garib')\n",
    "    else:\n",
    "      print('sale chor')"
   ]
  },
  {
   "cell_type": "code",
   "execution_count": 189,
   "id": "b7be220e",
   "metadata": {},
   "outputs": [
    {
     "name": "stdout",
     "output_type": "stream",
     "text": [
      "2083691778528\n"
     ]
    }
   ],
   "source": [
    "c1 = Atm()"
   ]
  },
  {
   "cell_type": "code",
   "execution_count": 190,
   "id": "4add3b48",
   "metadata": {},
   "outputs": [
    {
     "name": "stdout",
     "output_type": "stream",
     "text": [
      "2083691783424\n"
     ]
    }
   ],
   "source": [
    "c2 = Atm()"
   ]
  },
  {
   "cell_type": "code",
   "execution_count": 191,
   "id": "1a8768d1",
   "metadata": {},
   "outputs": [
    {
     "name": "stdout",
     "output_type": "stream",
     "text": [
      "2083691778432\n"
     ]
    }
   ],
   "source": [
    "c3 = Atm()"
   ]
  },
  {
   "cell_type": "code",
   "execution_count": 192,
   "id": "dce1193c",
   "metadata": {},
   "outputs": [
    {
     "data": {
      "text/plain": [
       "1"
      ]
     },
     "execution_count": 192,
     "metadata": {},
     "output_type": "execute_result"
    }
   ],
   "source": [
    "c1.cid"
   ]
  },
  {
   "cell_type": "code",
   "execution_count": 193,
   "id": "2eed7586",
   "metadata": {},
   "outputs": [
    {
     "data": {
      "text/plain": [
       "2"
      ]
     },
     "execution_count": 193,
     "metadata": {},
     "output_type": "execute_result"
    }
   ],
   "source": [
    "c2.cid"
   ]
  },
  {
   "cell_type": "code",
   "execution_count": 194,
   "id": "3fea48bd",
   "metadata": {},
   "outputs": [
    {
     "data": {
      "text/plain": [
       "3"
      ]
     },
     "execution_count": 194,
     "metadata": {},
     "output_type": "execute_result"
    }
   ],
   "source": [
    "c3.cid"
   ]
  },
  {
   "cell_type": "code",
   "execution_count": 195,
   "id": "e7ac9f10",
   "metadata": {},
   "outputs": [
    {
     "ename": "AttributeError",
     "evalue": "type object 'Atm' has no attribute 'counter'",
     "output_type": "error",
     "traceback": [
      "\u001b[1;31m---------------------------------------------------------------------------\u001b[0m",
      "\u001b[1;31mAttributeError\u001b[0m                            Traceback (most recent call last)",
      "Cell \u001b[1;32mIn[195], line 1\u001b[0m\n\u001b[1;32m----> 1\u001b[0m \u001b[43mAtm\u001b[49m\u001b[38;5;241;43m.\u001b[39;49m\u001b[43mcounter\u001b[49m\n",
      "\u001b[1;31mAttributeError\u001b[0m: type object 'Atm' has no attribute 'counter'"
     ]
    }
   ],
   "source": [
    "Atm.counter"
   ]
  },
  {
   "cell_type": "code",
   "execution_count": 196,
   "id": "a4cee3c6",
   "metadata": {},
   "outputs": [
    {
     "ename": "NameError",
     "evalue": "name 'heheh' is not defined",
     "output_type": "error",
     "traceback": [
      "\u001b[1;31m---------------------------------------------------------------------------\u001b[0m",
      "\u001b[1;31mNameError\u001b[0m                                 Traceback (most recent call last)",
      "Cell \u001b[1;32mIn[196], line 1\u001b[0m\n\u001b[1;32m----> 1\u001b[0m Atm\u001b[38;5;241m.\u001b[39mcounter \u001b[38;5;241m=\u001b[39m \u001b[43mheheh\u001b[49m\n",
      "\u001b[1;31mNameError\u001b[0m: name 'heheh' is not defined"
     ]
    }
   ],
   "source": [
    "Atm.counter = heheh #now private"
   ]
  },
  {
   "cell_type": "code",
   "execution_count": 197,
   "id": "7513eee9",
   "metadata": {},
   "outputs": [
    {
     "name": "stdout",
     "output_type": "stream",
     "text": [
      "2083691775120\n"
     ]
    }
   ],
   "source": [
    "obj = Atm() #static variable"
   ]
  },
  {
   "cell_type": "code",
   "execution_count": 198,
   "id": "379ba895",
   "metadata": {},
   "outputs": [
    {
     "ename": "TypeError",
     "evalue": "Atm.get_counter() missing 1 required positional argument: 'self'",
     "output_type": "error",
     "traceback": [
      "\u001b[1;31m---------------------------------------------------------------------------\u001b[0m",
      "\u001b[1;31mTypeError\u001b[0m                                 Traceback (most recent call last)",
      "Cell \u001b[1;32mIn[198], line 1\u001b[0m\n\u001b[1;32m----> 1\u001b[0m \u001b[43mobj\u001b[49m\u001b[38;5;241;43m.\u001b[39;49m\u001b[43mget_counter\u001b[49m\u001b[43m(\u001b[49m\u001b[43m)\u001b[49m\n",
      "\u001b[1;31mTypeError\u001b[0m: Atm.get_counter() missing 1 required positional argument: 'self'"
     ]
    }
   ],
   "source": [
    "obj.get_counter() #not recieve because class variable static"
   ]
  },
  {
   "cell_type": "code",
   "execution_count": 207,
   "id": "7b4929ff",
   "metadata": {},
   "outputs": [
    {
     "name": "stdout",
     "output_type": "stream",
     "text": [
      "2083690659312\n"
     ]
    },
    {
     "data": {
      "text/plain": [
       "<__main__.Atm at 0x1e525a43df0>"
      ]
     },
     "execution_count": 207,
     "metadata": {},
     "output_type": "execute_result"
    }
   ],
   "source": [
    "Atm()"
   ]
  },
  {
   "cell_type": "code",
   "execution_count": 208,
   "id": "8da81fe1",
   "metadata": {},
   "outputs": [
    {
     "data": {
      "text/plain": [
       "2"
      ]
     },
     "execution_count": 208,
     "metadata": {},
     "output_type": "execute_result"
    }
   ],
   "source": [
    "Atm.get_counter()"
   ]
  }
 ],
 "metadata": {
  "kernelspec": {
   "display_name": "Python 3 (ipykernel)",
   "language": "python",
   "name": "python3"
  },
  "language_info": {
   "codemirror_mode": {
    "name": "ipython",
    "version": 3
   },
   "file_extension": ".py",
   "mimetype": "text/x-python",
   "name": "python",
   "nbconvert_exporter": "python",
   "pygments_lexer": "ipython3",
   "version": "3.11.2"
  }
 },
 "nbformat": 4,
 "nbformat_minor": 5
}
