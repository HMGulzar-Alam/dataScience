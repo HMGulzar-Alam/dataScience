{
 "cells": [
  {
   "cell_type": "markdown",
   "id": "23ba91c8",
   "metadata": {},
   "source": [
    "## Class  Relationships\n",
    "1. Aggregation\n",
    "2. Inheritnce"
   ]
  },
  {
   "cell_type": "code",
   "execution_count": 76,
   "id": "81615652",
   "metadata": {},
   "outputs": [
    {
     "name": "stdout",
     "output_type": "stream",
     "text": [
      "<__main__.Customer object at 0x0000019EB7E198D0>\n",
      "<__main__.Customer object at 0x0000019EB7E198D0>\n"
     ]
    }
   ],
   "source": [
    "class Customer:\n",
    "    def __init__(self, name, gender, address):\n",
    "        \n",
    "        self.name = name\n",
    "        self.gender = gender\n",
    "        self.address = address\n",
    "    def print_Adress(self):\n",
    "        print(self.address.__city,self.address.pin,self.address.state)\n",
    "        \n",
    "class Address:\n",
    "    def __init__(self, city, pin, state):\n",
    "        self.__city = city\n",
    "        self.pin = pin\n",
    "        self.state = state\n",
    "\n",
    "add = Address(\"Karachi\",75800,\"Sindh\")        \n",
    "cust = Customer(\"Gulzar\", \"Male\", add)        \n",
    "print(cust)       \n",
    "print(cust)\n",
    "# print(cust.address.city)\n",
    "# cust.print_Adress()"
   ]
  },
  {
   "cell_type": "code",
   "execution_count": 84,
   "id": "e3a1aee4",
   "metadata": {},
   "outputs": [
    {
     "name": "stdout",
     "output_type": "stream",
     "text": [
      "Karachi 75800 Sindh\n",
      "Lahore 1122 Punjab\n"
     ]
    }
   ],
   "source": [
    "class Customer:\n",
    "    def __init__(self, name, gender, address):\n",
    "        \n",
    "        self.name = name\n",
    "        self.gender = gender\n",
    "        self.address = address\n",
    "    def print_Adress(self):\n",
    "        print(self.address.get_city(),self.address.pin,self.address.state)\n",
    "        \n",
    "    def edit_profile(self, new_name,new_city,new_pin,new_state):\n",
    "        self.name = new_name\n",
    "        self.address.edit_address(new_city,new_pin,new_state)\n",
    "        \n",
    "        \n",
    "        \n",
    "        \n",
    "class Address:\n",
    "    def __init__(self, city, pin, state):\n",
    "        self.__city = city\n",
    "        self.pin = pin\n",
    "        self.state = state\n",
    "        \n",
    "    def get_city(self):\n",
    "        return self.__city\n",
    "    \n",
    "    def edit_address(self,new_city,new_pin,new_state):\n",
    "        self.__city = new_city\n",
    "        self.pin = new_pin\n",
    "        self.state = new_state\n",
    "        \n",
    "\n",
    "add = Address(\"Karachi\",75800,\"Sindh\")        \n",
    "cust = Customer(\"Gulzar\", \"Male\", add)        \n",
    "# print(cust)       \n",
    "# print(cust.name)\n",
    "# print(cust.address.city)\n",
    "cust.print_Adress()\n",
    "cust.edit_profile(\"Shaka\", \"Lahore\", 1122,\"Punjab\")\n",
    "cust.print_Adress()"
   ]
  },
  {
   "cell_type": "code",
   "execution_count": 92,
   "id": "b5cc5c94",
   "metadata": {},
   "outputs": [
    {
     "name": "stdout",
     "output_type": "stream",
     "text": [
      "succesfully enroll the course\n"
     ]
    }
   ],
   "source": [
    "# Inheritance\n",
    "\n",
    "# DRY -> dont repeat yourself not used in programming\n",
    "\n",
    "class User:\n",
    "    def __init__(self):\n",
    "        self.name = 'Gulzar'\n",
    "    def login(self):\n",
    "        print(\"Login\")\n",
    "\n",
    "# child class        \n",
    "class Student(User):\n",
    "#     def __init__(self):\n",
    "#         self.roll_no = 112\n",
    "        \n",
    "    def enroll(self):\n",
    "        print(\"succesfully enroll the course\")\n",
    "        \n",
    "s= Student()\n",
    "u = User()\n",
    "\n",
    "s.name\n",
    "s.enroll()\n"
   ]
  },
  {
   "cell_type": "code",
   "execution_count": 100,
   "id": "3e3191c6",
   "metadata": {},
   "outputs": [
    {
     "name": "stdout",
     "output_type": "stream",
     "text": [
      "Apple\n",
      "Apple\n"
     ]
    }
   ],
   "source": [
    "# inheritance\n",
    "# what gets inherited\n",
    "# 1. constructor\n",
    "# 2. non private method\n",
    "# 3. non private variables\n",
    "\n",
    "# example 1\n",
    "\n",
    "class Phone:\n",
    "    def __init__(self,price,brand,camera):\n",
    "        self.price = price\n",
    "        self.brand = brand\n",
    "        self.camera = camera\n",
    "        \n",
    "    def buy(self):\n",
    "        print(\"inside phone constructor \")\n",
    "        \n",
    "class SmartPhone(Phone):\n",
    "    pass\n",
    "\n",
    "p = Phone(12000, \"Apple\", 13)\n",
    "\n",
    "s = SmartPhone(12000, \"Apple\", 13)\n",
    "print(p.brand)\n",
    "print(s.brand)"
   ]
  },
  {
   "cell_type": "code",
   "execution_count": 103,
   "id": "ba64acdd",
   "metadata": {},
   "outputs": [],
   "source": [
    "# inheritance\n",
    "# what gets inherited\n",
    "# 1. constructor\n",
    "# 2. non private method\n",
    "# 3. non private variables\n",
    "\n",
    "# example 2 method overriding because of 2 constructor(child and parents)\n",
    "\n",
    "class Phone:\n",
    "    def __init__(self,price,brand,camera):\n",
    "        self.price = price\n",
    "        self.brand = brand\n",
    "        self.camera = camera\n",
    "        \n",
    "    def buy(self):\n",
    "        print(\"inside phone constructor \")\n",
    "        \n",
    "class SmartPhone(Phone):\n",
    "    def __init__(self,os,ram):\n",
    "        self.os = os\n",
    "        self.ram = ram\n",
    "    def buy(self):\n",
    "        print(\"inside SmartPhone constructor \")    \n",
    "\n",
    "p = Phone(12000, \"Apple\", 13)\n",
    "\n",
    "s = SmartPhone(12000, \"Apple\")\n",
    "# print(p.brand)\n",
    "# print(s.brand)"
   ]
  },
  {
   "cell_type": "code",
   "execution_count": 109,
   "id": "7cbf8671",
   "metadata": {},
   "outputs": [
    {
     "data": {
      "text/plain": [
       "12000"
      ]
     },
     "execution_count": 109,
     "metadata": {},
     "output_type": "execute_result"
    }
   ],
   "source": [
    "# child class can not access of private members of the parent class\n",
    "class Phone:\n",
    "    def __init__(self,price,brand,camera):\n",
    "        self.__price = price\n",
    "        self.brand = brand\n",
    "        self.camera = camera\n",
    "        \n",
    "    def get_price(self):\n",
    "        return self.__price\n",
    "        \n",
    "    def buy(self):\n",
    "        print(\"inside phone constructor \")\n",
    "        \n",
    "class SmartPhone(Phone):\n",
    "    \n",
    "    def buy(self):\n",
    "        print(\"inside SmartPhone constructor \")    \n",
    "\n",
    "p = SmartPhone(12000, \"Apple\", 13)\n",
    "p.get_price()"
   ]
  },
  {
   "cell_type": "code",
   "execution_count": 112,
   "id": "866200f8",
   "metadata": {},
   "outputs": [
    {
     "name": "stdout",
     "output_type": "stream",
     "text": [
      "Class A:  100\n"
     ]
    }
   ],
   "source": [
    "class A:\n",
    "    def __init__(self):\n",
    "        self.var1 = 100\n",
    "        \n",
    "    def display1(self,var1):\n",
    "        print(\"Class A: \", self.var1)\n",
    "        \n",
    "class B(A):\n",
    "    def display2(self,var1):\n",
    "        print(\"class B:\", self.var1)\n",
    "        \n",
    "obj = B()\n",
    "obj.display1(200)\n",
    "\n",
    "# print 100 because not variable used"
   ]
  },
  {
   "cell_type": "code",
   "execution_count": 114,
   "id": "fa430627",
   "metadata": {},
   "outputs": [
    {
     "name": "stdout",
     "output_type": "stream",
     "text": [
      "Class A:  200\n"
     ]
    }
   ],
   "source": [
    "class A:\n",
    "    def __init__(self):\n",
    "        self.var1 = 100\n",
    "        \n",
    "    def display1(self,var1):\n",
    "        self.var1 = var1\n",
    "        print(\"Class A: \", self.var1)\n",
    "        \n",
    "class B(A):\n",
    "    def display2(self,var1):\n",
    "        print(\"class B:\", self.var1)\n",
    "        \n",
    "obj = B()\n",
    "obj.display1(200)\n",
    "\n",
    "# print 100 because not variable used"
   ]
  },
  {
   "cell_type": "code",
   "execution_count": 5,
   "id": "88646b82",
   "metadata": {},
   "outputs": [
    {
     "name": "stdout",
     "output_type": "stream",
     "text": [
      "Buying a SmartPhone\n",
      "Buying a Phone\n"
     ]
    }
   ],
   "source": [
    "# Method overriding\n",
    "\n",
    "class Phone:\n",
    "    def __init__(self, price,brand,camera):\n",
    "        self.price = price\n",
    "        self.brand = brand\n",
    "        self.camera = camera\n",
    "    def buy(self):\n",
    "        print(\"Buying a Phone\")\n",
    "        \n",
    "class SmartPhone(Phone):\n",
    "    def buy(self):\n",
    "        print(\"Buying a SmartPhone\")\n",
    "        \n",
    "        \n",
    "s = SmartPhone(12000,\"samsung\",11)\n",
    "s.buy()"
   ]
  },
  {
   "cell_type": "code",
   "execution_count": 7,
   "id": "3c487711",
   "metadata": {},
   "outputs": [
    {
     "name": "stdout",
     "output_type": "stream",
     "text": [
      "Buying a SmartPhone\n",
      "Buying a Phone\n"
     ]
    }
   ],
   "source": [
    "# super used for calling parent method\n",
    "\n",
    "# Method overriding\n",
    "\n",
    "class Phone:\n",
    "    def __init__(self, price,brand,camera):\n",
    "        self.price = price\n",
    "        self.brand = brand\n",
    "        self.camera = camera\n",
    "    def buy(self):\n",
    "        print(\"Buying a Phone\")\n",
    "        \n",
    "class SmartPhone(Phone):\n",
    "    def buy(self):\n",
    "        print(\"Buying a SmartPhone\")\n",
    "        super().buy() #calling parent method\n",
    "        \n",
    "s = SmartPhone(12000,\"samsung\",11)\n",
    "s.buy()"
   ]
  },
  {
   "cell_type": "code",
   "execution_count": 1,
   "id": "3e54f549",
   "metadata": {},
   "outputs": [
    {
     "name": "stdout",
     "output_type": "stream",
     "text": [
      "Inside phone construcctor\n",
      "inside smartphone constructor\n"
     ]
    },
    {
     "data": {
      "text/plain": [
       "'16 GB'"
      ]
     },
     "execution_count": 1,
     "metadata": {},
     "output_type": "execute_result"
    }
   ],
   "source": [
    "# super with constructor\n",
    "\n",
    "class Phone():\n",
    "    print(\"Inside phone construcctor\")\n",
    "    def __init__(self,price,brand,camera):\n",
    "        self.price = price\n",
    "        self.brand  = brand\n",
    "        self.camera = camera\n",
    "\n",
    "class SmartPhone(Phone):\n",
    "    def __init__(self,price,brand,camera,os,ram):\n",
    "        print(\"inside smartphone constructor\")\n",
    "        super().__init__(price,brand,camera)\n",
    "        self.os = os\n",
    "        self.ram = ram\n",
    "        \n",
    "s = SmartPhone(12000,\"Samsung\",\"10 px\", \"Android\", \"16 GB\")    \n",
    "s.ram"
   ]
  },
  {
   "cell_type": "code",
   "execution_count": null,
   "id": "25ab4c2e",
   "metadata": {},
   "outputs": [],
   "source": [
    "# types of inheritance\n",
    "# single inheritance\n",
    "\n",
    "class Phone:\n",
    "    def __init__(self,price,camera,brand):\n",
    "        self.price = price\n",
    "        self.camera = camera\n",
    "        self.brand = brand\n",
    "    def buy(self):\n",
    "        print(\"Buying a phone\")\n",
    "        \n",
    "class SmartPhone(Phone):\n",
    "    pass\n",
    "\n",
    "SmartPhone(12000,\"12 px\",\"Moto\").buy()"
   ]
  },
  {
   "cell_type": "code",
   "execution_count": 4,
   "id": "fa5c74e0",
   "metadata": {},
   "outputs": [
    {
     "name": "stdout",
     "output_type": "stream",
     "text": [
      "Product customer review\n",
      "Buying a phone\n"
     ]
    }
   ],
   "source": [
    "# multi-level inheritance\n",
    "class product:\n",
    "    def review(self):\n",
    "        print(\"Product customer review\")\n",
    "        \n",
    "class Phone(product):\n",
    "    def __init__(self,price,camera,brand):\n",
    "        self.price = price\n",
    "        self.camera = camera\n",
    "        self.brand = brand\n",
    "    def buy(self):\n",
    "        print(\"Buying a phone\")\n",
    "        \n",
    "class SmartPhone(Phone):\n",
    "    pass\n",
    "\n",
    "s = SmartPhone(12000,\"12 px\", \"moto\")\n",
    "s.review()\n",
    "s.buy()\n",
    "            \n",
    "         "
   ]
  },
  {
   "cell_type": "code",
   "execution_count": 7,
   "id": "5280e729",
   "metadata": {},
   "outputs": [
    {
     "name": "stdout",
     "output_type": "stream",
     "text": [
      "Buying a phone\n",
      "Buying a phone\n"
     ]
    }
   ],
   "source": [
    "# Hierarchical\n",
    "class Phone: \n",
    "    def __init__(self,price,camera,brand):\n",
    "        self.price = price\n",
    "        self.camera = camera\n",
    "        self.brand = brand\n",
    "    def buy(self):\n",
    "        print(\"Buying a phone\")\n",
    "        \n",
    "class SmartPhone(Phone):\n",
    "    pass\n",
    "class FeaturePhone(Phone):\n",
    "    pass\n",
    "\n",
    "SmartPhone(12000, \"12px\", \"Moto\").buy()\n",
    "FeaturePhone(12000, \"12px\", \"Samsung\").buy()"
   ]
  },
  {
   "cell_type": "code",
   "execution_count": 12,
   "id": "1bbead6b",
   "metadata": {},
   "outputs": [
    {
     "data": {
      "text/plain": [
       "<bound method Phone.buy of <__main__.SmartPhone object at 0x000001342FCE55D0>>"
      ]
     },
     "execution_count": 12,
     "metadata": {},
     "output_type": "execute_result"
    }
   ],
   "source": [
    "# multiple inheritance\n",
    "class Phone: \n",
    "    def __init__(self,price,camera,brand):\n",
    "        self.price = price\n",
    "        self.camera = camera\n",
    "        self.brand = brand\n",
    "    def buy(self):\n",
    "        print(\"Buying a phone\")\n",
    "\n",
    "class review:\n",
    "    def review(self):\n",
    "        print(\"Review products\")\n",
    "\n",
    "# method resolution order        \n",
    "class SmartPhone(Phone,review):\n",
    "    pass\n",
    "\n",
    "s = SmartPhone('12000',\"12 px\", \"Moto\")\n",
    "s.review\n",
    "s.buy"
   ]
  },
  {
   "cell_type": "code",
   "execution_count": 25,
   "id": "96880132",
   "metadata": {},
   "outputs": [
    {
     "data": {
      "text/plain": [
       "12.56"
      ]
     },
     "execution_count": 25,
     "metadata": {},
     "output_type": "execute_result"
    }
   ],
   "source": [
    "# polymorphism having multiple faces\n",
    "# method overriding\n",
    "# method overloading\n",
    "# operator overloading\n",
    "\n",
    "# class Shape:\n",
    "#     def area(self,radius):\n",
    "#         return 3.14 * radius *radius\n",
    "#     def area(self,l,b):\n",
    "#         return l*b \n",
    "    \n",
    "# s = Shape() \n",
    "# s.area(3)\n",
    "# s.area(2,2)\n",
    "\n",
    "class Shape:\n",
    "    def area(self,l,b=0):\n",
    "        if b == 0:\n",
    "            return 3.14*l*l\n",
    "        else:\n",
    "            return l*b\n",
    "s = Shape()\n",
    "s.area(2)\n",
    "# s.area(4,4)"
   ]
  }
 ],
 "metadata": {
  "kernelspec": {
   "display_name": "Python 3 (ipykernel)",
   "language": "python",
   "name": "python3"
  },
  "language_info": {
   "codemirror_mode": {
    "name": "ipython",
    "version": 3
   },
   "file_extension": ".py",
   "mimetype": "text/x-python",
   "name": "python",
   "nbconvert_exporter": "python",
   "pygments_lexer": "ipython3",
   "version": "3.10.9"
  }
 },
 "nbformat": 4,
 "nbformat_minor": 5
}
