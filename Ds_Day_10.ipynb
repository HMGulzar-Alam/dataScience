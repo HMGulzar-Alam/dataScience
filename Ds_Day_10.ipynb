{
 "cells": [
  {
   "cell_type": "code",
   "execution_count": null,
   "id": "6b034eba",
   "metadata": {},
   "outputs": [],
   "source": [
    "# python I/O operation contains binaryand text"
   ]
  },
  {
   "cell_type": "code",
   "execution_count": 1,
   "id": "b25a2e6d",
   "metadata": {},
   "outputs": [
    {
     "data": {
      "text/plain": [
       "11"
      ]
     },
     "execution_count": 1,
     "metadata": {},
     "output_type": "execute_result"
    }
   ],
   "source": [
    "# case 1 if the file is not present\n",
    "f = open(\"sample.txt\",'w')\n",
    "f.write(\"Hello World\")"
   ]
  },
  {
   "cell_type": "code",
   "execution_count": null,
   "id": "606e45a4",
   "metadata": {},
   "outputs": [],
   "source": [
    "# case 2 if the file is present\n",
    "f = open(\"sample.txt\",\"w\")\n",
    "f.write(\"Khaaaaan\")\n",
    "f.close()"
   ]
  },
  {
   "cell_type": "code",
   "execution_count": 3,
   "id": "aee88b80",
   "metadata": {},
   "outputs": [
    {
     "name": "stdout",
     "output_type": "stream",
     "text": [
      "<_io.TextIOWrapper name='sample.txt' mode='a' encoding='cp1252'>\n"
     ]
    }
   ],
   "source": [
    "# problem with w Mode \n",
    "# introducing append mode a\n",
    "f = open('sample.txt', 'a')\n",
    "f.write('\\n this is new line')\n",
    "f.close()\n",
    "print(f)\n",
    "\n"
   ]
  },
  {
   "cell_type": "code",
   "execution_count": 6,
   "id": "d9d62330",
   "metadata": {},
   "outputs": [
    {
     "data": {
      "text/plain": [
       "<_io.TextIOWrapper name='sample.txt' mode='w' encoding='cp1252'>"
      ]
     },
     "execution_count": 6,
     "metadata": {},
     "output_type": "execute_result"
    }
   ],
   "source": [
    "l = ['\\nhello', '\\nhi', '\\ni am fine']\n",
    "f = open('sample.txt','w')\n",
    "f.writelines(l)\n",
    "f.close()\n",
    "f"
   ]
  },
  {
   "cell_type": "code",
   "execution_count": 9,
   "id": "b94f980b",
   "metadata": {},
   "outputs": [
    {
     "name": "stdout",
     "output_type": "stream",
     "text": [
      "\n",
      "hello\n",
      "hi\n",
      "i am fine\n"
     ]
    }
   ],
   "source": [
    "# reading from file using read r\n",
    "f = open('sample.txt', 'r')\n",
    "s = f.read() #variable save must\n",
    "print(s)"
   ]
  },
  {
   "cell_type": "code",
   "execution_count": 11,
   "id": "f88f6690",
   "metadata": {},
   "outputs": [
    {
     "name": "stdout",
     "output_type": "stream",
     "text": [
      "\n",
      "he\n"
     ]
    }
   ],
   "source": [
    "# print for  n chars\n",
    "f = open('sample.txt', 'r')\n",
    "s = f.read(3)\n",
    "print(s)"
   ]
  },
  {
   "cell_type": "code",
   "execution_count": 19,
   "id": "e1c76cf8",
   "metadata": {},
   "outputs": [
    {
     "name": "stdout",
     "output_type": "stream",
     "text": [
      "\n",
      "hello\n",
      "hi\n",
      "\n"
     ]
    }
   ],
   "source": [
    "# read line by line \n",
    "f = open('sample.txt', 'r')\n",
    "print(f.readline(),end=\"\")\n",
    "print(f.readline(),end=\"\")\n",
    "print(f.readline())"
   ]
  },
  {
   "cell_type": "code",
   "execution_count": 21,
   "id": "5122c25c",
   "metadata": {},
   "outputs": [
    {
     "name": "stdout",
     "output_type": "stream",
     "text": [
      "\n",
      " hello\n",
      " hi\n",
      " i am fine "
     ]
    }
   ],
   "source": [
    "# # reading entire using line \n",
    "\n",
    "f = open('sample.txt','r')\n",
    "\n",
    "while True:\n",
    "    data = f.readline()\n",
    "\n",
    "    if data == \"\":\n",
    "        break \n",
    "    else:\n",
    "        print(data, end=\" \")\n",
    "\n",
    "f.close()        "
   ]
  },
  {
   "cell_type": "markdown",
   "id": "64935be5",
   "metadata": {},
   "source": []
  },
  {
   "cell_type": "code",
   "execution_count": 3,
   "id": "14c62b57",
   "metadata": {},
   "outputs": [
    {
     "name": "stdout",
     "output_type": "stream",
     "text": [
      "<_io.TextIOWrapper name='sample.txt' mode='w' encoding='cp1252'>\n"
     ]
    }
   ],
   "source": [
    "# using context  manager with\n",
    "# closing file after using\n",
    "\n",
    "with open('sample.txt', 'w') as f:\n",
    "    f.write(\"\\n salman bhai\")\n",
    "    print(f)"
   ]
  },
  {
   "cell_type": "code",
   "execution_count": 8,
   "id": "26913193",
   "metadata": {},
   "outputs": [
    {
     "name": "stdout",
     "output_type": "stream",
     "text": [
      "\n",
      " salman bhai\n"
     ]
    }
   ],
   "source": [
    "# read File\n",
    "with open('sample.txt','r') as f:\n",
    "    # f.read()\n",
    "    print(f.read())"
   ]
  },
  {
   "cell_type": "code",
   "execution_count": 10,
   "id": "a8ac753a",
   "metadata": {},
   "outputs": [
    {
     "name": "stdout",
     "output_type": "stream",
     "text": [
      "\n",
      " sal\n"
     ]
    }
   ],
   "source": [
    "# read File 5  chars\n",
    "with open('sample.txt','r') as f:\n",
    "    # f.read()\n",
    "    print(f.read(5))"
   ]
  },
  {
   "cell_type": "code",
   "execution_count": 2,
   "id": "71e3cf8f",
   "metadata": {},
   "outputs": [
    {
     "name": "stdout",
     "output_type": "stream",
     "text": [
      "<_io.TextIOWrapper name='big.txt' mode='w' encoding='cp1252'>\n"
     ]
    }
   ],
   "source": [
    "# benefit -> toload a big filein memory\n",
    "big_f = ['hello world' for i in range(1000)]\n",
    "\n",
    "with open('big.txt','w') as f:\n",
    "    f.writelines(big_f)\n",
    "    print(f)"
   ]
  },
  {
   "cell_type": "code",
   "execution_count": 13,
   "id": "31708ef7",
   "metadata": {},
   "outputs": [],
   "source": [
    "# loading data with specific chunks\n",
    "with open('sample.txt','r') as f:\n",
    "    chunk_size = 10\n",
    "    while len(f.read(chunk_size)) > 0:\n",
    "        print(f.read(chunk_size),end=\"***\")\n",
    "        f.read(chunk_size)"
   ]
  },
  {
   "cell_type": "code",
   "execution_count": 26,
   "id": "a586bf67",
   "metadata": {},
   "outputs": [
    {
     "name": "stdout",
     "output_type": "stream",
     "text": [
      "\n",
      "0\n",
      "\n"
     ]
    }
   ],
   "source": [
    "# seek and tell function\n",
    "with open ('sample.txt','r') as f:\n",
    "    print(f.read(5))\n",
    "    print(f.tell())\n",
    "    f.seek(1)\n",
    "    print(f.read(10))\n"
   ]
  },
  {
   "cell_type": "code",
   "execution_count": 31,
   "id": "1908bf23",
   "metadata": {},
   "outputs": [],
   "source": [
    "# seek during write\n",
    "with open ('big.txt','w') as f:\n",
    "    f.write('Hello world')\n",
    "    f.seek(0)\n",
    "    f.write('xa')"
   ]
  },
  {
   "cell_type": "code",
   "execution_count": 32,
   "id": "aa161deb",
   "metadata": {},
   "outputs": [],
   "source": [
    "# problem with working in text mode \n",
    "# -> can not work with binary Files \n",
    "# -> not good for other data types\n",
    "\n"
   ]
  },
  {
   "cell_type": "code",
   "execution_count": 40,
   "id": "6e801c99",
   "metadata": {},
   "outputs": [
    {
     "ename": "SyntaxError",
     "evalue": "(unicode error) 'unicodeescape' codec can't decode bytes in position 2-3: truncated \\UXXXXXXXX escape (1434213200.py, line 2)",
     "output_type": "error",
     "traceback": [
      "\u001b[1;36m  Cell \u001b[1;32mIn[40], line 2\u001b[1;36m\u001b[0m\n\u001b[1;33m    with open('C:\\Users\\hafiz\\OneDrive\\Desktop\\DS\\gul.jpg' ,'rb') as f:\u001b[0m\n\u001b[1;37m                                                           ^\u001b[0m\n\u001b[1;31mSyntaxError\u001b[0m\u001b[1;31m:\u001b[0m (unicode error) 'unicodeescape' codec can't decode bytes in position 2-3: truncated \\UXXXXXXXX escape\n"
     ]
    }
   ],
   "source": [
    "# working with binary files \n",
    "with open('C:\\Users\\hafiz\\OneDrive\\Desktop\\DS\\gul.jpg' ,'rb') as f:\n",
    "    with open('C:\\Users\\hafiz\\OneDrive\\Desktop\\DS\\gul.jpg' ,'wb') as wf:\n",
    "        wf.write(f.read())"
   ]
  },
  {
   "cell_type": "code",
   "execution_count": 42,
   "id": "4153b806",
   "metadata": {},
   "outputs": [],
   "source": [
    "# working with big binary file \n",
    "with open('gul.jpg', 'rb') as f:\n",
    "    f.read()"
   ]
  },
  {
   "cell_type": "code",
   "execution_count": 43,
   "id": "b7c1eadf",
   "metadata": {},
   "outputs": [],
   "source": [
    "# working with other data types\n",
    "# only working with string \n",
    "\n",
    "with open('big.txt','w') as f:\n",
    "    f.write('5')"
   ]
  },
  {
   "cell_type": "code",
   "execution_count": 56,
   "id": "15f453d3",
   "metadata": {},
   "outputs": [
    {
     "name": "stdout",
     "output_type": "stream",
     "text": [
      "5\n"
     ]
    }
   ],
   "source": [
    "with open('big.txt','r') as f:\n",
    "    print(str(f.read()) + '5')"
   ]
  },
  {
   "cell_type": "code",
   "execution_count": 69,
   "id": "533560ab",
   "metadata": {},
   "outputs": [
    {
     "name": "stdout",
     "output_type": "stream",
     "text": [
      "{'name': 'Adil', 'age': 27, 'gender': 'male'}\n",
      "<class 'str'>\n"
     ]
    }
   ],
   "source": [
    "# write complex data \n",
    "d = {\n",
    "    'name':'Adil',\n",
    "    'age' : 27,\n",
    "    'gender': 'male'\n",
    "}\n",
    "\n",
    "# print(d)\n",
    "\n",
    "with open ('sample.txt','r') as f:\n",
    "    print(f.read())\n",
    "    # print(d)\n",
    "    # print(type(d))\n",
    "    print(type(f.read()))"
   ]
  },
  {
   "cell_type": "code",
   "execution_count": 70,
   "id": "8e846f96",
   "metadata": {},
   "outputs": [],
   "source": [
    "# serialization and deserialization\n",
    "# serialization::: process of converting python data types to json format \n",
    "# deserilization ::: json to python data types\n",
    "\n"
   ]
  },
  {
   "cell_type": "code",
   "execution_count": 72,
   "id": "61198c2a",
   "metadata": {},
   "outputs": [],
   "source": [
    "# serialization using json module\n",
    "# list \n",
    "import json\n",
    "L = [1,2,3,4]\n",
    "with open('demo.json', 'w') as f:\n",
    "    json.dump(L,f)"
   ]
  },
  {
   "cell_type": "code",
   "execution_count": 75,
   "id": "347eaf18",
   "metadata": {},
   "outputs": [],
   "source": [
    "d = {\n",
    "    'name' : 'Gulzar',\n",
    "    'age' : 28,\n",
    "    'country':\"pakistan\"\n",
    "}\n",
    "\n",
    "with open('dic.json', 'w') as f:\n",
    "    json.dump(d,f, indent = 4)"
   ]
  },
  {
   "cell_type": "code",
   "execution_count": null,
   "id": "2246c69d",
   "metadata": {},
   "outputs": [
    {
     "name": "stdout",
     "output_type": "stream",
     "text": [
      "{'name': 'Gulzar', 'age': 28, 'country': 'pakistan'}\n",
      "<class 'dict'>\n"
     ]
    }
   ],
   "source": [
    "# deserialization \n",
    "import json\n",
    "with open ('dic.json','r') as f:\n",
    "    d = json.load(f)\n",
    "    print(d)\n",
    "    print(type(d))"
   ]
  },
  {
   "cell_type": "code",
   "execution_count": 3,
   "id": "5708e318",
   "metadata": {},
   "outputs": [],
   "source": [
    "# serialization and deserialization in tuple \n",
    "# return list \n",
    "import json\n",
    "\n",
    "t = (1,2,3,4,5)\n",
    "\n",
    "with open ('tuple.json', 'w') as f:\n",
    "    json.dump(t,f)"
   ]
  },
  {
   "cell_type": "code",
   "execution_count": 5,
   "id": "be150de0",
   "metadata": {},
   "outputs": [],
   "source": [
    "# serialization and deserialization in nested dictionary \n",
    "d = {\n",
    "    'name':\"Gulzar\",\n",
    "    'marks':[10,20,30,40]\n",
    "}\n",
    "\n",
    "with open (\"demo.json\", 'w') as f:\n",
    "    json.dump(d,f, indent = 4)\n",
    "    "
   ]
  },
  {
   "cell_type": "code",
   "execution_count": 6,
   "id": "2eb73937",
   "metadata": {},
   "outputs": [],
   "source": [
    "# serialization and deserialization in custom objects \n",
    "\n",
    "class Person:\n",
    "    def __init__(self,name,age,country):\n",
    "        self.name = name\n",
    "        self.age = age\n",
    "        self.country = country"
   ]
  },
  {
   "cell_type": "code",
   "execution_count": 8,
   "id": "0f8d9ace",
   "metadata": {},
   "outputs": [
    {
     "name": "stdout",
     "output_type": "stream",
     "text": [
      "<__main__.Person object at 0x000001540BEB5350>\n"
     ]
    }
   ],
   "source": [
    "p = Person(\"Gulzar\",28,\"pakistan\")\n",
    "print(p)"
   ]
  },
  {
   "cell_type": "code",
   "execution_count": 10,
   "id": "cd81c773",
   "metadata": {},
   "outputs": [
    {
     "ename": "TypeError",
     "evalue": "Object of type Person is not JSON serializable",
     "output_type": "error",
     "traceback": [
      "\u001b[1;31m---------------------------------------------------------------------------\u001b[0m",
      "\u001b[1;31mTypeError\u001b[0m                                 Traceback (most recent call last)",
      "\u001b[1;32mc:\\Users\\hafiz\\OneDrive\\Desktop\\DS\\Ds_Day_10.ipynb Cell 32\u001b[0m line \u001b[0;36m5\n\u001b[0;32m      <a href='vscode-notebook-cell:/c%3A/Users/hafiz/OneDrive/Desktop/DS/Ds_Day_10.ipynb#X44sZmlsZQ%3D%3D?line=0'>1</a>\u001b[0m \u001b[39m# as a string \u001b[39;00m\n\u001b[0;32m      <a href='vscode-notebook-cell:/c%3A/Users/hafiz/OneDrive/Desktop/DS/Ds_Day_10.ipynb#X44sZmlsZQ%3D%3D?line=1'>2</a>\u001b[0m \u001b[39m# python do not allow custom objects to serialize and allow to redimate data types to serialize \u001b[39;00m\n\u001b[0;32m      <a href='vscode-notebook-cell:/c%3A/Users/hafiz/OneDrive/Desktop/DS/Ds_Day_10.ipynb#X44sZmlsZQ%3D%3D?line=3'>4</a>\u001b[0m \u001b[39mwith\u001b[39;00m \u001b[39mopen\u001b[39m(\u001b[39m'\u001b[39m\u001b[39mdemo.json\u001b[39m\u001b[39m'\u001b[39m, \u001b[39m'\u001b[39m\u001b[39mw\u001b[39m\u001b[39m'\u001b[39m) \u001b[39mas\u001b[39;00m f:\n\u001b[1;32m----> <a href='vscode-notebook-cell:/c%3A/Users/hafiz/OneDrive/Desktop/DS/Ds_Day_10.ipynb#X44sZmlsZQ%3D%3D?line=4'>5</a>\u001b[0m     json\u001b[39m.\u001b[39;49mdump(p,f)\n",
      "File \u001b[1;32mc:\\Users\\hafiz\\AppData\\Local\\Programs\\Python\\Python311\\Lib\\json\\__init__.py:179\u001b[0m, in \u001b[0;36mdump\u001b[1;34m(obj, fp, skipkeys, ensure_ascii, check_circular, allow_nan, cls, indent, separators, default, sort_keys, **kw)\u001b[0m\n\u001b[0;32m    173\u001b[0m     iterable \u001b[39m=\u001b[39m \u001b[39mcls\u001b[39m(skipkeys\u001b[39m=\u001b[39mskipkeys, ensure_ascii\u001b[39m=\u001b[39mensure_ascii,\n\u001b[0;32m    174\u001b[0m         check_circular\u001b[39m=\u001b[39mcheck_circular, allow_nan\u001b[39m=\u001b[39mallow_nan, indent\u001b[39m=\u001b[39mindent,\n\u001b[0;32m    175\u001b[0m         separators\u001b[39m=\u001b[39mseparators,\n\u001b[0;32m    176\u001b[0m         default\u001b[39m=\u001b[39mdefault, sort_keys\u001b[39m=\u001b[39msort_keys, \u001b[39m*\u001b[39m\u001b[39m*\u001b[39mkw)\u001b[39m.\u001b[39miterencode(obj)\n\u001b[0;32m    177\u001b[0m \u001b[39m# could accelerate with writelines in some versions of Python, at\u001b[39;00m\n\u001b[0;32m    178\u001b[0m \u001b[39m# a debuggability cost\u001b[39;00m\n\u001b[1;32m--> 179\u001b[0m \u001b[39mfor\u001b[39;49;00m chunk \u001b[39min\u001b[39;49;00m iterable:\n\u001b[0;32m    180\u001b[0m     fp\u001b[39m.\u001b[39;49mwrite(chunk)\n",
      "File \u001b[1;32mc:\\Users\\hafiz\\AppData\\Local\\Programs\\Python\\Python311\\Lib\\json\\encoder.py:439\u001b[0m, in \u001b[0;36m_make_iterencode.<locals>._iterencode\u001b[1;34m(o, _current_indent_level)\u001b[0m\n\u001b[0;32m    437\u001b[0m         \u001b[39mraise\u001b[39;00m \u001b[39mValueError\u001b[39;00m(\u001b[39m\"\u001b[39m\u001b[39mCircular reference detected\u001b[39m\u001b[39m\"\u001b[39m)\n\u001b[0;32m    438\u001b[0m     markers[markerid] \u001b[39m=\u001b[39m o\n\u001b[1;32m--> 439\u001b[0m o \u001b[39m=\u001b[39m _default(o)\n\u001b[0;32m    440\u001b[0m \u001b[39myield from\u001b[39;00m _iterencode(o, _current_indent_level)\n\u001b[0;32m    441\u001b[0m \u001b[39mif\u001b[39;00m markers \u001b[39mis\u001b[39;00m \u001b[39mnot\u001b[39;00m \u001b[39mNone\u001b[39;00m:\n",
      "File \u001b[1;32mc:\\Users\\hafiz\\AppData\\Local\\Programs\\Python\\Python311\\Lib\\json\\encoder.py:180\u001b[0m, in \u001b[0;36mJSONEncoder.default\u001b[1;34m(self, o)\u001b[0m\n\u001b[0;32m    161\u001b[0m \u001b[39mdef\u001b[39;00m \u001b[39mdefault\u001b[39m(\u001b[39mself\u001b[39m, o):\n\u001b[0;32m    162\u001b[0m \u001b[39m    \u001b[39m\u001b[39m\"\"\"Implement this method in a subclass such that it returns\u001b[39;00m\n\u001b[0;32m    163\u001b[0m \u001b[39m    a serializable object for ``o``, or calls the base implementation\u001b[39;00m\n\u001b[0;32m    164\u001b[0m \u001b[39m    (to raise a ``TypeError``).\u001b[39;00m\n\u001b[1;32m   (...)\u001b[0m\n\u001b[0;32m    178\u001b[0m \n\u001b[0;32m    179\u001b[0m \u001b[39m    \"\"\"\u001b[39;00m\n\u001b[1;32m--> 180\u001b[0m     \u001b[39mraise\u001b[39;00m \u001b[39mTypeError\u001b[39;00m(\u001b[39mf\u001b[39m\u001b[39m'\u001b[39m\u001b[39mObject of type \u001b[39m\u001b[39m{\u001b[39;00mo\u001b[39m.\u001b[39m\u001b[39m__class__\u001b[39m\u001b[39m.\u001b[39m\u001b[39m__name__\u001b[39m\u001b[39m}\u001b[39;00m\u001b[39m \u001b[39m\u001b[39m'\u001b[39m\n\u001b[0;32m    181\u001b[0m                     \u001b[39mf\u001b[39m\u001b[39m'\u001b[39m\u001b[39mis not JSON serializable\u001b[39m\u001b[39m'\u001b[39m)\n",
      "\u001b[1;31mTypeError\u001b[0m: Object of type Person is not JSON serializable"
     ]
    }
   ],
   "source": [
    "# as a string \n",
    "# python do not allow custom objects to serialize and allow to redimate data types to serialize \n",
    "\n",
    "with open('demo.json', 'w') as f:\n",
    "    json.dump(p,f)"
   ]
  },
  {
   "cell_type": "code",
   "execution_count": 16,
   "id": "53b7ad46",
   "metadata": {},
   "outputs": [],
   "source": [
    "# as string \n",
    "import json\n",
    "def show_object(p):\n",
    "    if isinstance(p,Person):\n",
    "        return \"name ->{} age -> {} country -> {}\".format(p.name,p.age,p.country)\n",
    "    \n",
    "with open ('demo.json', 'w') as f:\n",
    "    json.dump(p,f, default=show_object)    \n",
    "\n"
   ]
  },
  {
   "cell_type": "code",
   "execution_count": 19,
   "id": "f4d88f29",
   "metadata": {},
   "outputs": [],
   "source": [
    "import json\n",
    "def show_object(p):\n",
    "    if isinstance(p,Person):\n",
    "        return {'name':p.name,'age':p.age,'country':p.country}\n",
    "    \n",
    "with open('demo.json', 'w') as f:\n",
    "    json.dump(p,f, default=show_object)    "
   ]
  },
  {
   "cell_type": "code",
   "execution_count": 35,
   "id": "94b7dd3e",
   "metadata": {},
   "outputs": [
    {
     "ename": "JSONDecodeError",
     "evalue": "Expecting value: line 1 column 1 (char 0)",
     "output_type": "error",
     "traceback": [
      "\u001b[1;31m---------------------------------------------------------------------------\u001b[0m",
      "\u001b[1;31mJSONDecodeError\u001b[0m                           Traceback (most recent call last)",
      "\u001b[1;32mc:\\Users\\hafiz\\OneDrive\\Desktop\\DS\\Ds_Day_10.ipynb Cell 35\u001b[0m line \u001b[0;36m4\n\u001b[0;32m      <a href='vscode-notebook-cell:/c%3A/Users/hafiz/OneDrive/Desktop/DS/Ds_Day_10.ipynb#X46sZmlsZQ%3D%3D?line=1'>2</a>\u001b[0m \u001b[39mimport\u001b[39;00m \u001b[39mjson\u001b[39;00m\n\u001b[0;32m      <a href='vscode-notebook-cell:/c%3A/Users/hafiz/OneDrive/Desktop/DS/Ds_Day_10.ipynb#X46sZmlsZQ%3D%3D?line=2'>3</a>\u001b[0m \u001b[39mwith\u001b[39;00m \u001b[39mopen\u001b[39m(\u001b[39m'\u001b[39m\u001b[39mdemo.json\u001b[39m\u001b[39m'\u001b[39m,\u001b[39m'\u001b[39m\u001b[39mr\u001b[39m\u001b[39m'\u001b[39m) \u001b[39mas\u001b[39;00m f:\n\u001b[1;32m----> <a href='vscode-notebook-cell:/c%3A/Users/hafiz/OneDrive/Desktop/DS/Ds_Day_10.ipynb#X46sZmlsZQ%3D%3D?line=3'>4</a>\u001b[0m     d \u001b[39m=\u001b[39m json\u001b[39m.\u001b[39;49mload(f)\n\u001b[0;32m      <a href='vscode-notebook-cell:/c%3A/Users/hafiz/OneDrive/Desktop/DS/Ds_Day_10.ipynb#X46sZmlsZQ%3D%3D?line=4'>5</a>\u001b[0m     \u001b[39mprint\u001b[39m(d)\n",
      "File \u001b[1;32mc:\\Users\\hafiz\\AppData\\Local\\Programs\\Python\\Python311\\Lib\\json\\__init__.py:293\u001b[0m, in \u001b[0;36mload\u001b[1;34m(fp, cls, object_hook, parse_float, parse_int, parse_constant, object_pairs_hook, **kw)\u001b[0m\n\u001b[0;32m    274\u001b[0m \u001b[39mdef\u001b[39;00m \u001b[39mload\u001b[39m(fp, \u001b[39m*\u001b[39m, \u001b[39mcls\u001b[39m\u001b[39m=\u001b[39m\u001b[39mNone\u001b[39;00m, object_hook\u001b[39m=\u001b[39m\u001b[39mNone\u001b[39;00m, parse_float\u001b[39m=\u001b[39m\u001b[39mNone\u001b[39;00m,\n\u001b[0;32m    275\u001b[0m         parse_int\u001b[39m=\u001b[39m\u001b[39mNone\u001b[39;00m, parse_constant\u001b[39m=\u001b[39m\u001b[39mNone\u001b[39;00m, object_pairs_hook\u001b[39m=\u001b[39m\u001b[39mNone\u001b[39;00m, \u001b[39m*\u001b[39m\u001b[39m*\u001b[39mkw):\n\u001b[0;32m    276\u001b[0m \u001b[39m    \u001b[39m\u001b[39m\"\"\"Deserialize ``fp`` (a ``.read()``-supporting file-like object containing\u001b[39;00m\n\u001b[0;32m    277\u001b[0m \u001b[39m    a JSON document) to a Python object.\u001b[39;00m\n\u001b[0;32m    278\u001b[0m \n\u001b[1;32m   (...)\u001b[0m\n\u001b[0;32m    291\u001b[0m \u001b[39m    kwarg; otherwise ``JSONDecoder`` is used.\u001b[39;00m\n\u001b[0;32m    292\u001b[0m \u001b[39m    \"\"\"\u001b[39;00m\n\u001b[1;32m--> 293\u001b[0m     \u001b[39mreturn\u001b[39;00m loads(fp\u001b[39m.\u001b[39;49mread(),\n\u001b[0;32m    294\u001b[0m         \u001b[39mcls\u001b[39;49m\u001b[39m=\u001b[39;49m\u001b[39mcls\u001b[39;49m, object_hook\u001b[39m=\u001b[39;49mobject_hook,\n\u001b[0;32m    295\u001b[0m         parse_float\u001b[39m=\u001b[39;49mparse_float, parse_int\u001b[39m=\u001b[39;49mparse_int,\n\u001b[0;32m    296\u001b[0m         parse_constant\u001b[39m=\u001b[39;49mparse_constant, object_pairs_hook\u001b[39m=\u001b[39;49mobject_pairs_hook, \u001b[39m*\u001b[39;49m\u001b[39m*\u001b[39;49mkw)\n",
      "File \u001b[1;32mc:\\Users\\hafiz\\AppData\\Local\\Programs\\Python\\Python311\\Lib\\json\\__init__.py:346\u001b[0m, in \u001b[0;36mloads\u001b[1;34m(s, cls, object_hook, parse_float, parse_int, parse_constant, object_pairs_hook, **kw)\u001b[0m\n\u001b[0;32m    341\u001b[0m     s \u001b[39m=\u001b[39m s\u001b[39m.\u001b[39mdecode(detect_encoding(s), \u001b[39m'\u001b[39m\u001b[39msurrogatepass\u001b[39m\u001b[39m'\u001b[39m)\n\u001b[0;32m    343\u001b[0m \u001b[39mif\u001b[39;00m (\u001b[39mcls\u001b[39m \u001b[39mis\u001b[39;00m \u001b[39mNone\u001b[39;00m \u001b[39mand\u001b[39;00m object_hook \u001b[39mis\u001b[39;00m \u001b[39mNone\u001b[39;00m \u001b[39mand\u001b[39;00m\n\u001b[0;32m    344\u001b[0m         parse_int \u001b[39mis\u001b[39;00m \u001b[39mNone\u001b[39;00m \u001b[39mand\u001b[39;00m parse_float \u001b[39mis\u001b[39;00m \u001b[39mNone\u001b[39;00m \u001b[39mand\u001b[39;00m\n\u001b[0;32m    345\u001b[0m         parse_constant \u001b[39mis\u001b[39;00m \u001b[39mNone\u001b[39;00m \u001b[39mand\u001b[39;00m object_pairs_hook \u001b[39mis\u001b[39;00m \u001b[39mNone\u001b[39;00m \u001b[39mand\u001b[39;00m \u001b[39mnot\u001b[39;00m kw):\n\u001b[1;32m--> 346\u001b[0m     \u001b[39mreturn\u001b[39;00m _default_decoder\u001b[39m.\u001b[39;49mdecode(s)\n\u001b[0;32m    347\u001b[0m \u001b[39mif\u001b[39;00m \u001b[39mcls\u001b[39m \u001b[39mis\u001b[39;00m \u001b[39mNone\u001b[39;00m:\n\u001b[0;32m    348\u001b[0m     \u001b[39mcls\u001b[39m \u001b[39m=\u001b[39m JSONDecoder\n",
      "File \u001b[1;32mc:\\Users\\hafiz\\AppData\\Local\\Programs\\Python\\Python311\\Lib\\json\\decoder.py:337\u001b[0m, in \u001b[0;36mJSONDecoder.decode\u001b[1;34m(self, s, _w)\u001b[0m\n\u001b[0;32m    332\u001b[0m \u001b[39mdef\u001b[39;00m \u001b[39mdecode\u001b[39m(\u001b[39mself\u001b[39m, s, _w\u001b[39m=\u001b[39mWHITESPACE\u001b[39m.\u001b[39mmatch):\n\u001b[0;32m    333\u001b[0m \u001b[39m    \u001b[39m\u001b[39m\"\"\"Return the Python representation of ``s`` (a ``str`` instance\u001b[39;00m\n\u001b[0;32m    334\u001b[0m \u001b[39m    containing a JSON document).\u001b[39;00m\n\u001b[0;32m    335\u001b[0m \n\u001b[0;32m    336\u001b[0m \u001b[39m    \"\"\"\u001b[39;00m\n\u001b[1;32m--> 337\u001b[0m     obj, end \u001b[39m=\u001b[39m \u001b[39mself\u001b[39;49m\u001b[39m.\u001b[39;49mraw_decode(s, idx\u001b[39m=\u001b[39;49m_w(s, \u001b[39m0\u001b[39;49m)\u001b[39m.\u001b[39;49mend())\n\u001b[0;32m    338\u001b[0m     end \u001b[39m=\u001b[39m _w(s, end)\u001b[39m.\u001b[39mend()\n\u001b[0;32m    339\u001b[0m     \u001b[39mif\u001b[39;00m end \u001b[39m!=\u001b[39m \u001b[39mlen\u001b[39m(s):\n",
      "File \u001b[1;32mc:\\Users\\hafiz\\AppData\\Local\\Programs\\Python\\Python311\\Lib\\json\\decoder.py:355\u001b[0m, in \u001b[0;36mJSONDecoder.raw_decode\u001b[1;34m(self, s, idx)\u001b[0m\n\u001b[0;32m    353\u001b[0m     obj, end \u001b[39m=\u001b[39m \u001b[39mself\u001b[39m\u001b[39m.\u001b[39mscan_once(s, idx)\n\u001b[0;32m    354\u001b[0m \u001b[39mexcept\u001b[39;00m \u001b[39mStopIteration\u001b[39;00m \u001b[39mas\u001b[39;00m err:\n\u001b[1;32m--> 355\u001b[0m     \u001b[39mraise\u001b[39;00m JSONDecodeError(\u001b[39m\"\u001b[39m\u001b[39mExpecting value\u001b[39m\u001b[39m\"\u001b[39m, s, err\u001b[39m.\u001b[39mvalue) \u001b[39mfrom\u001b[39;00m \u001b[39mNone\u001b[39;00m\n\u001b[0;32m    356\u001b[0m \u001b[39mreturn\u001b[39;00m obj, end\n",
      "\u001b[1;31mJSONDecodeError\u001b[0m: Expecting value: line 1 column 1 (char 0)"
     ]
    }
   ],
   "source": [
    "# deserialization\n",
    "import json\n",
    "with open('demo.json','r') as f:\n",
    "    d = json.load(f)\n",
    "    print(d)"
   ]
  },
  {
   "cell_type": "code",
   "execution_count": 36,
   "id": "105f9e9b",
   "metadata": {},
   "outputs": [],
   "source": [
    "# pickling : is the process of object hierarchy converted it into byte stream\n",
    "\n",
    "class Person:\n",
    "    def __init__(self,name,age,country):\n",
    "        self.name = name\n",
    "        self.age = age\n",
    "        self.country = country\n",
    "    def display(self):\n",
    "        print(\"my name is\",self.name,\"and my age is\",self.age,\"and my country is\",self.country)    "
   ]
  },
  {
   "cell_type": "code",
   "execution_count": 39,
   "id": "ac14679a",
   "metadata": {},
   "outputs": [
    {
     "data": {
      "text/plain": [
       "'Adil'"
      ]
     },
     "execution_count": 39,
     "metadata": {},
     "output_type": "execute_result"
    }
   ],
   "source": [
    "p = Person('Adil',20,\"Pakistan\")\n",
    "p.name"
   ]
  },
  {
   "cell_type": "code",
   "execution_count": 42,
   "id": "12976d07",
   "metadata": {},
   "outputs": [],
   "source": [
    "# pickle dump \n",
    "import pickle\n",
    "with open('person.pkl', 'wb') as f:\n",
    "    pickle.dump(p,f)\n",
    "    "
   ]
  },
  {
   "cell_type": "code",
   "execution_count": 48,
   "id": "ae105c5f",
   "metadata": {},
   "outputs": [
    {
     "name": "stdout",
     "output_type": "stream",
     "text": [
      "my name is Adil and my age is 20 and my country is Pakistan\n"
     ]
    }
   ],
   "source": [
    "# pickle load \n",
    "import pickle\n",
    "with open('person.pkl', 'rb') as f:\n",
    "    p =  pickle.load(f)\n",
    "    p.display()\n"
   ]
  },
  {
   "cell_type": "code",
   "execution_count": null,
   "id": "3a34471a",
   "metadata": {},
   "outputs": [],
   "source": [
    "# pickle vs json \n",
    "# pickle is the stored data in binary format and json is the stored data in string format(human readable)"
   ]
  }
 ],
 "metadata": {
  "kernelspec": {
   "display_name": "Python 3 (ipykernel)",
   "language": "python",
   "name": "python3"
  },
  "language_info": {
   "codemirror_mode": {
    "name": "ipython",
    "version": 3
   },
   "file_extension": ".py",
   "mimetype": "text/x-python",
   "name": "python",
   "nbconvert_exporter": "python",
   "pygments_lexer": "ipython3",
   "version": "3.11.2"
  }
 },
 "nbformat": 4,
 "nbformat_minor": 5
}
